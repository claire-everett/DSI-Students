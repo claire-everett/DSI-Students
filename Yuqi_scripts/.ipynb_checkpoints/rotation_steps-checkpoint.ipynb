{
 "cells": [
  {
   "cell_type": "code",
   "execution_count": 2,
   "metadata": {},
   "outputs": [],
   "source": [
    "import ssm\n",
    "import h5py\n",
    "import numpy as np\n",
    "import pandas as pd\n",
    "import matplotlib.pyplot as plt\n",
    "import Conspecific_Tracking_ta_edit_117 as cs\n",
    "from scipy import interpolate \n",
    "from beating import rotation"
   ]
  },
  {
   "cell_type": "code",
   "execution_count": 3,
   "metadata": {},
   "outputs": [],
   "source": [
    "path = \"/Users/miaoyuqi/研究/Statistical analyses of Siamese fighting fish aggressive behavior/DSI-Students/Yuqi_scripts/top example.h5\"\n",
    "f = pd.HDFStore(path,'r')\n",
    "data_top = f.get('df_with_missing')"
   ]
  },
  {
   "cell_type": "code",
   "execution_count": 4,
   "metadata": {},
   "outputs": [
    {
     "data": {
      "text/plain": [
       "scorer                                         bodyparts         coords    \n",
       "DLC_resnet50_DLC_toptrackFeb27shuffle1_170000  A_head            x             0\n",
       "                                                                 y             0\n",
       "                                                                 likelihood    0\n",
       "                                               B_rightoperculum  x             0\n",
       "                                                                 y             0\n",
       "                                                                 likelihood    0\n",
       "                                               C_tailbase        x             0\n",
       "                                                                 y             0\n",
       "                                                                 likelihood    0\n",
       "                                               D_tailtip         x             0\n",
       "                                                                 y             0\n",
       "                                                                 likelihood    0\n",
       "                                               E_leftoperculum   x             0\n",
       "                                                                 y             0\n",
       "                                                                 likelihood    0\n",
       "                                               F_spine1          x             0\n",
       "                                                                 y             0\n",
       "                                                                 likelihood    0\n",
       "                                               G_spine2          x             0\n",
       "                                                                 y             0\n",
       "                                                                 likelihood    0\n",
       "                                               H_spine3          x             0\n",
       "                                                                 y             0\n",
       "                                                                 likelihood    0\n",
       "                                               I_spine4          x             0\n",
       "                                                                 y             0\n",
       "                                                                 likelihood    0\n",
       "                                               J_spine5          x             0\n",
       "                                                                 y             0\n",
       "                                                                 likelihood    0\n",
       "                                               K_spine6          x             0\n",
       "                                                                 y             0\n",
       "                                                                 likelihood    0\n",
       "                                               L_spine7          x             0\n",
       "                                                                 y             0\n",
       "                                                                 likelihood    0\n",
       "                                               M_lefteye         x             0\n",
       "                                                                 y             0\n",
       "                                                                 likelihood    0\n",
       "                                               N_righteye        x             0\n",
       "                                                                 y             0\n",
       "                                                                 likelihood    0\n",
       "                                               O_dorsaltip       x             0\n",
       "                                                                 y             0\n",
       "                                                                 likelihood    0\n",
       "                                               P_analtipfront    x             0\n",
       "                                                                 y             0\n",
       "                                                                 likelihood    0\n",
       "                                               Q_analtipback     x             0\n",
       "                                                                 y             0\n",
       "                                                                 likelihood    0\n",
       "dtype: int64"
      ]
     },
     "execution_count": 4,
     "metadata": {},
     "output_type": "execute_result"
    }
   ],
   "source": [
    "data_top.isnull().sum()"
   ]
  },
  {
   "cell_type": "code",
   "execution_count": 5,
   "metadata": {},
   "outputs": [],
   "source": [
    "data_top.columns = data_top.columns.droplevel()"
   ]
  },
  {
   "cell_type": "code",
   "execution_count": 6,
   "metadata": {
    "scrolled": true
   },
   "outputs": [
    {
     "name": "stderr",
     "output_type": "stream",
     "text": [
      "/opt/anaconda3/lib/python3.7/site-packages/pandas/core/generic.py:9114: SettingWithCopyWarning: \n",
      "A value is trying to be set on a copy of a slice from a DataFrame\n",
      "\n",
      "See the caveats in the documentation: http://pandas.pydata.org/pandas-docs/stable/user_guide/indexing.html#returning-a-view-versus-a-copy\n",
      "  self._update_inplace(new_data)\n",
      "/opt/anaconda3/lib/python3.7/site-packages/ipykernel_launcher.py:1: SettingWithCopyWarning: \n",
      "A value is trying to be set on a copy of a slice from a DataFrame\n",
      "\n",
      "See the caveats in the documentation: http://pandas.pydata.org/pandas-docs/stable/user_guide/indexing.html#returning-a-view-versus-a-copy\n",
      "  \"\"\"Entry point for launching an IPython kernel.\n"
     ]
    }
   ],
   "source": [
    "data_top1 = cs.auto_scoring_tracefilter(data_top)"
   ]
  },
  {
   "cell_type": "code",
   "execution_count": 7,
   "metadata": {},
   "outputs": [
    {
     "data": {
      "text/html": [
       "<div>\n",
       "<style scoped>\n",
       "    .dataframe tbody tr th:only-of-type {\n",
       "        vertical-align: middle;\n",
       "    }\n",
       "\n",
       "    .dataframe tbody tr th {\n",
       "        vertical-align: top;\n",
       "    }\n",
       "\n",
       "    .dataframe thead tr th {\n",
       "        text-align: left;\n",
       "    }\n",
       "</style>\n",
       "<table border=\"1\" class=\"dataframe\">\n",
       "  <thead>\n",
       "    <tr>\n",
       "      <th>bodyparts</th>\n",
       "      <th colspan=\"3\" halign=\"left\">A_head</th>\n",
       "      <th colspan=\"3\" halign=\"left\">B_rightoperculum</th>\n",
       "      <th colspan=\"3\" halign=\"left\">C_tailbase</th>\n",
       "      <th>D_tailtip</th>\n",
       "      <th>...</th>\n",
       "      <th>N_righteye</th>\n",
       "      <th colspan=\"3\" halign=\"left\">O_dorsaltip</th>\n",
       "      <th colspan=\"3\" halign=\"left\">P_analtipfront</th>\n",
       "      <th colspan=\"3\" halign=\"left\">Q_analtipback</th>\n",
       "    </tr>\n",
       "    <tr>\n",
       "      <th>coords</th>\n",
       "      <th>x</th>\n",
       "      <th>y</th>\n",
       "      <th>likelihood</th>\n",
       "      <th>x</th>\n",
       "      <th>y</th>\n",
       "      <th>likelihood</th>\n",
       "      <th>x</th>\n",
       "      <th>y</th>\n",
       "      <th>likelihood</th>\n",
       "      <th>x</th>\n",
       "      <th>...</th>\n",
       "      <th>likelihood</th>\n",
       "      <th>x</th>\n",
       "      <th>y</th>\n",
       "      <th>likelihood</th>\n",
       "      <th>x</th>\n",
       "      <th>y</th>\n",
       "      <th>likelihood</th>\n",
       "      <th>x</th>\n",
       "      <th>y</th>\n",
       "      <th>likelihood</th>\n",
       "    </tr>\n",
       "  </thead>\n",
       "  <tbody>\n",
       "    <tr>\n",
       "      <td>0</td>\n",
       "      <td>415.946948</td>\n",
       "      <td>177.326215</td>\n",
       "      <td>0.959429</td>\n",
       "      <td>385.814809</td>\n",
       "      <td>183.664918</td>\n",
       "      <td>0.952570</td>\n",
       "      <td>318.217662</td>\n",
       "      <td>146.098751</td>\n",
       "      <td>0.673566</td>\n",
       "      <td>289.014949</td>\n",
       "      <td>...</td>\n",
       "      <td>0.984336</td>\n",
       "      <td>306.002802</td>\n",
       "      <td>139.314127</td>\n",
       "      <td>0.454427</td>\n",
       "      <td>386.164043</td>\n",
       "      <td>141.569612</td>\n",
       "      <td>0.011742</td>\n",
       "      <td>313.975855</td>\n",
       "      <td>142.270941</td>\n",
       "      <td>0.001547</td>\n",
       "    </tr>\n",
       "    <tr>\n",
       "      <td>1</td>\n",
       "      <td>418.014186</td>\n",
       "      <td>178.462459</td>\n",
       "      <td>0.955257</td>\n",
       "      <td>384.996427</td>\n",
       "      <td>183.167860</td>\n",
       "      <td>0.948758</td>\n",
       "      <td>320.453204</td>\n",
       "      <td>151.674863</td>\n",
       "      <td>0.568234</td>\n",
       "      <td>290.862930</td>\n",
       "      <td>...</td>\n",
       "      <td>0.964542</td>\n",
       "      <td>302.370958</td>\n",
       "      <td>140.394541</td>\n",
       "      <td>0.131689</td>\n",
       "      <td>373.335630</td>\n",
       "      <td>178.835227</td>\n",
       "      <td>0.024423</td>\n",
       "      <td>328.618773</td>\n",
       "      <td>150.077028</td>\n",
       "      <td>0.001636</td>\n",
       "    </tr>\n",
       "    <tr>\n",
       "      <td>2</td>\n",
       "      <td>417.105943</td>\n",
       "      <td>176.876360</td>\n",
       "      <td>0.943769</td>\n",
       "      <td>384.518239</td>\n",
       "      <td>181.424752</td>\n",
       "      <td>0.972419</td>\n",
       "      <td>320.338798</td>\n",
       "      <td>149.399992</td>\n",
       "      <td>0.639880</td>\n",
       "      <td>289.505597</td>\n",
       "      <td>...</td>\n",
       "      <td>0.933459</td>\n",
       "      <td>305.050504</td>\n",
       "      <td>139.756470</td>\n",
       "      <td>0.050716</td>\n",
       "      <td>372.818843</td>\n",
       "      <td>178.789937</td>\n",
       "      <td>0.017629</td>\n",
       "      <td>322.741209</td>\n",
       "      <td>150.062513</td>\n",
       "      <td>0.002204</td>\n",
       "    </tr>\n",
       "    <tr>\n",
       "      <td>3</td>\n",
       "      <td>416.606345</td>\n",
       "      <td>177.777748</td>\n",
       "      <td>0.985256</td>\n",
       "      <td>385.086024</td>\n",
       "      <td>182.960127</td>\n",
       "      <td>0.973279</td>\n",
       "      <td>321.837950</td>\n",
       "      <td>152.267511</td>\n",
       "      <td>0.390251</td>\n",
       "      <td>291.725096</td>\n",
       "      <td>...</td>\n",
       "      <td>0.958047</td>\n",
       "      <td>298.334596</td>\n",
       "      <td>138.285726</td>\n",
       "      <td>0.054004</td>\n",
       "      <td>373.832608</td>\n",
       "      <td>178.992960</td>\n",
       "      <td>0.020791</td>\n",
       "      <td>328.441117</td>\n",
       "      <td>149.989664</td>\n",
       "      <td>0.006967</td>\n",
       "    </tr>\n",
       "    <tr>\n",
       "      <td>4</td>\n",
       "      <td>419.273356</td>\n",
       "      <td>175.782816</td>\n",
       "      <td>0.969223</td>\n",
       "      <td>386.812540</td>\n",
       "      <td>181.418791</td>\n",
       "      <td>0.981919</td>\n",
       "      <td>317.064627</td>\n",
       "      <td>146.026957</td>\n",
       "      <td>0.575809</td>\n",
       "      <td>289.992651</td>\n",
       "      <td>...</td>\n",
       "      <td>0.956734</td>\n",
       "      <td>299.906851</td>\n",
       "      <td>139.701604</td>\n",
       "      <td>0.172871</td>\n",
       "      <td>375.286906</td>\n",
       "      <td>177.380033</td>\n",
       "      <td>0.024975</td>\n",
       "      <td>291.567868</td>\n",
       "      <td>138.161612</td>\n",
       "      <td>0.003067</td>\n",
       "    </tr>\n",
       "    <tr>\n",
       "      <td>...</td>\n",
       "      <td>...</td>\n",
       "      <td>...</td>\n",
       "      <td>...</td>\n",
       "      <td>...</td>\n",
       "      <td>...</td>\n",
       "      <td>...</td>\n",
       "      <td>...</td>\n",
       "      <td>...</td>\n",
       "      <td>...</td>\n",
       "      <td>...</td>\n",
       "      <td>...</td>\n",
       "      <td>...</td>\n",
       "      <td>...</td>\n",
       "      <td>...</td>\n",
       "      <td>...</td>\n",
       "      <td>...</td>\n",
       "      <td>...</td>\n",
       "      <td>...</td>\n",
       "      <td>...</td>\n",
       "      <td>...</td>\n",
       "      <td>...</td>\n",
       "    </tr>\n",
       "    <tr>\n",
       "      <td>216055</td>\n",
       "      <td>115.224273</td>\n",
       "      <td>428.042881</td>\n",
       "      <td>0.985239</td>\n",
       "      <td>130.866148</td>\n",
       "      <td>403.266978</td>\n",
       "      <td>0.793048</td>\n",
       "      <td>211.999958</td>\n",
       "      <td>405.722123</td>\n",
       "      <td>0.437744</td>\n",
       "      <td>269.359513</td>\n",
       "      <td>...</td>\n",
       "      <td>0.965007</td>\n",
       "      <td>219.245724</td>\n",
       "      <td>409.192145</td>\n",
       "      <td>0.012624</td>\n",
       "      <td>176.582889</td>\n",
       "      <td>417.658646</td>\n",
       "      <td>0.026593</td>\n",
       "      <td>206.345652</td>\n",
       "      <td>407.906617</td>\n",
       "      <td>0.003529</td>\n",
       "    </tr>\n",
       "    <tr>\n",
       "      <td>216056</td>\n",
       "      <td>112.109635</td>\n",
       "      <td>429.795300</td>\n",
       "      <td>0.948975</td>\n",
       "      <td>128.535094</td>\n",
       "      <td>404.710131</td>\n",
       "      <td>0.822822</td>\n",
       "      <td>217.711812</td>\n",
       "      <td>406.100222</td>\n",
       "      <td>0.159780</td>\n",
       "      <td>269.270312</td>\n",
       "      <td>...</td>\n",
       "      <td>0.973490</td>\n",
       "      <td>218.661550</td>\n",
       "      <td>408.480131</td>\n",
       "      <td>0.023082</td>\n",
       "      <td>180.040638</td>\n",
       "      <td>412.004125</td>\n",
       "      <td>0.046400</td>\n",
       "      <td>194.534151</td>\n",
       "      <td>407.084077</td>\n",
       "      <td>0.015347</td>\n",
       "    </tr>\n",
       "    <tr>\n",
       "      <td>216057</td>\n",
       "      <td>110.823496</td>\n",
       "      <td>428.584533</td>\n",
       "      <td>0.983084</td>\n",
       "      <td>127.850124</td>\n",
       "      <td>404.726947</td>\n",
       "      <td>0.922252</td>\n",
       "      <td>209.341100</td>\n",
       "      <td>402.889189</td>\n",
       "      <td>0.197096</td>\n",
       "      <td>265.111362</td>\n",
       "      <td>...</td>\n",
       "      <td>0.934129</td>\n",
       "      <td>209.103492</td>\n",
       "      <td>408.061889</td>\n",
       "      <td>0.008485</td>\n",
       "      <td>162.651323</td>\n",
       "      <td>422.723468</td>\n",
       "      <td>0.034243</td>\n",
       "      <td>192.216555</td>\n",
       "      <td>405.554355</td>\n",
       "      <td>0.003764</td>\n",
       "    </tr>\n",
       "    <tr>\n",
       "      <td>216058</td>\n",
       "      <td>107.593892</td>\n",
       "      <td>430.485992</td>\n",
       "      <td>0.988081</td>\n",
       "      <td>125.272988</td>\n",
       "      <td>404.186574</td>\n",
       "      <td>0.908140</td>\n",
       "      <td>213.543039</td>\n",
       "      <td>402.210792</td>\n",
       "      <td>0.184707</td>\n",
       "      <td>256.298375</td>\n",
       "      <td>...</td>\n",
       "      <td>0.854129</td>\n",
       "      <td>206.665428</td>\n",
       "      <td>410.733885</td>\n",
       "      <td>0.016047</td>\n",
       "      <td>172.478179</td>\n",
       "      <td>412.623683</td>\n",
       "      <td>0.039974</td>\n",
       "      <td>189.440412</td>\n",
       "      <td>404.005210</td>\n",
       "      <td>0.007338</td>\n",
       "    </tr>\n",
       "    <tr>\n",
       "      <td>216059</td>\n",
       "      <td>105.617214</td>\n",
       "      <td>428.754637</td>\n",
       "      <td>0.987205</td>\n",
       "      <td>124.094361</td>\n",
       "      <td>403.971402</td>\n",
       "      <td>0.903140</td>\n",
       "      <td>211.850021</td>\n",
       "      <td>400.798593</td>\n",
       "      <td>0.217004</td>\n",
       "      <td>260.408660</td>\n",
       "      <td>...</td>\n",
       "      <td>0.891931</td>\n",
       "      <td>203.930601</td>\n",
       "      <td>410.184324</td>\n",
       "      <td>0.013657</td>\n",
       "      <td>142.734169</td>\n",
       "      <td>396.243218</td>\n",
       "      <td>0.070764</td>\n",
       "      <td>202.025167</td>\n",
       "      <td>402.553108</td>\n",
       "      <td>0.009501</td>\n",
       "    </tr>\n",
       "  </tbody>\n",
       "</table>\n",
       "<p>216060 rows × 51 columns</p>\n",
       "</div>"
      ],
      "text/plain": [
       "bodyparts      A_head                        B_rightoperculum              \\\n",
       "coords              x           y likelihood                x           y   \n",
       "0          415.946948  177.326215   0.959429       385.814809  183.664918   \n",
       "1          418.014186  178.462459   0.955257       384.996427  183.167860   \n",
       "2          417.105943  176.876360   0.943769       384.518239  181.424752   \n",
       "3          416.606345  177.777748   0.985256       385.086024  182.960127   \n",
       "4          419.273356  175.782816   0.969223       386.812540  181.418791   \n",
       "...               ...         ...        ...              ...         ...   \n",
       "216055     115.224273  428.042881   0.985239       130.866148  403.266978   \n",
       "216056     112.109635  429.795300   0.948975       128.535094  404.710131   \n",
       "216057     110.823496  428.584533   0.983084       127.850124  404.726947   \n",
       "216058     107.593892  430.485992   0.988081       125.272988  404.186574   \n",
       "216059     105.617214  428.754637   0.987205       124.094361  403.971402   \n",
       "\n",
       "bodyparts             C_tailbase                          D_tailtip  ...  \\\n",
       "coords    likelihood           x           y likelihood           x  ...   \n",
       "0           0.952570  318.217662  146.098751   0.673566  289.014949  ...   \n",
       "1           0.948758  320.453204  151.674863   0.568234  290.862930  ...   \n",
       "2           0.972419  320.338798  149.399992   0.639880  289.505597  ...   \n",
       "3           0.973279  321.837950  152.267511   0.390251  291.725096  ...   \n",
       "4           0.981919  317.064627  146.026957   0.575809  289.992651  ...   \n",
       "...              ...         ...         ...        ...         ...  ...   \n",
       "216055      0.793048  211.999958  405.722123   0.437744  269.359513  ...   \n",
       "216056      0.822822  217.711812  406.100222   0.159780  269.270312  ...   \n",
       "216057      0.922252  209.341100  402.889189   0.197096  265.111362  ...   \n",
       "216058      0.908140  213.543039  402.210792   0.184707  256.298375  ...   \n",
       "216059      0.903140  211.850021  400.798593   0.217004  260.408660  ...   \n",
       "\n",
       "bodyparts N_righteye O_dorsaltip                        P_analtipfront  \\\n",
       "coords    likelihood           x           y likelihood              x   \n",
       "0           0.984336  306.002802  139.314127   0.454427     386.164043   \n",
       "1           0.964542  302.370958  140.394541   0.131689     373.335630   \n",
       "2           0.933459  305.050504  139.756470   0.050716     372.818843   \n",
       "3           0.958047  298.334596  138.285726   0.054004     373.832608   \n",
       "4           0.956734  299.906851  139.701604   0.172871     375.286906   \n",
       "...              ...         ...         ...        ...            ...   \n",
       "216055      0.965007  219.245724  409.192145   0.012624     176.582889   \n",
       "216056      0.973490  218.661550  408.480131   0.023082     180.040638   \n",
       "216057      0.934129  209.103492  408.061889   0.008485     162.651323   \n",
       "216058      0.854129  206.665428  410.733885   0.016047     172.478179   \n",
       "216059      0.891931  203.930601  410.184324   0.013657     142.734169   \n",
       "\n",
       "bodyparts                        Q_analtipback                         \n",
       "coords              y likelihood             x           y likelihood  \n",
       "0          141.569612   0.011742    313.975855  142.270941   0.001547  \n",
       "1          178.835227   0.024423    328.618773  150.077028   0.001636  \n",
       "2          178.789937   0.017629    322.741209  150.062513   0.002204  \n",
       "3          178.992960   0.020791    328.441117  149.989664   0.006967  \n",
       "4          177.380033   0.024975    291.567868  138.161612   0.003067  \n",
       "...               ...        ...           ...         ...        ...  \n",
       "216055     417.658646   0.026593    206.345652  407.906617   0.003529  \n",
       "216056     412.004125   0.046400    194.534151  407.084077   0.015347  \n",
       "216057     422.723468   0.034243    192.216555  405.554355   0.003764  \n",
       "216058     412.623683   0.039974    189.440412  404.005210   0.007338  \n",
       "216059     396.243218   0.070764    202.025167  402.553108   0.009501  \n",
       "\n",
       "[216060 rows x 51 columns]"
      ]
     },
     "execution_count": 7,
     "metadata": {},
     "output_type": "execute_result"
    }
   ],
   "source": [
    "data_top1"
   ]
  },
  {
   "cell_type": "code",
   "execution_count": 8,
   "metadata": {
    "scrolled": true
   },
   "outputs": [
    {
     "data": {
      "text/html": [
       "<div>\n",
       "<style scoped>\n",
       "    .dataframe tbody tr th:only-of-type {\n",
       "        vertical-align: middle;\n",
       "    }\n",
       "\n",
       "    .dataframe tbody tr th {\n",
       "        vertical-align: top;\n",
       "    }\n",
       "\n",
       "    .dataframe thead tr th {\n",
       "        text-align: left;\n",
       "    }\n",
       "</style>\n",
       "<table border=\"1\" class=\"dataframe\">\n",
       "  <thead>\n",
       "    <tr>\n",
       "      <th>bodyparts</th>\n",
       "      <th colspan=\"2\" halign=\"left\">F_spine1</th>\n",
       "      <th colspan=\"2\" halign=\"left\">G_spine2</th>\n",
       "      <th colspan=\"2\" halign=\"left\">H_spine3</th>\n",
       "      <th colspan=\"2\" halign=\"left\">I_spine4</th>\n",
       "      <th colspan=\"2\" halign=\"left\">J_spine5</th>\n",
       "      <th colspan=\"2\" halign=\"left\">K_spine6</th>\n",
       "      <th colspan=\"2\" halign=\"left\">L_spine7</th>\n",
       "    </tr>\n",
       "    <tr>\n",
       "      <th>coords</th>\n",
       "      <th>x</th>\n",
       "      <th>y</th>\n",
       "      <th>x</th>\n",
       "      <th>y</th>\n",
       "      <th>x</th>\n",
       "      <th>y</th>\n",
       "      <th>x</th>\n",
       "      <th>y</th>\n",
       "      <th>x</th>\n",
       "      <th>y</th>\n",
       "      <th>x</th>\n",
       "      <th>y</th>\n",
       "      <th>x</th>\n",
       "      <th>y</th>\n",
       "    </tr>\n",
       "  </thead>\n",
       "  <tbody>\n",
       "    <tr>\n",
       "      <td>4413</td>\n",
       "      <td>NaN</td>\n",
       "      <td>NaN</td>\n",
       "      <td>NaN</td>\n",
       "      <td>NaN</td>\n",
       "      <td>NaN</td>\n",
       "      <td>NaN</td>\n",
       "      <td>NaN</td>\n",
       "      <td>NaN</td>\n",
       "      <td>NaN</td>\n",
       "      <td>NaN</td>\n",
       "      <td>NaN</td>\n",
       "      <td>NaN</td>\n",
       "      <td>NaN</td>\n",
       "      <td>NaN</td>\n",
       "    </tr>\n",
       "    <tr>\n",
       "      <td>4423</td>\n",
       "      <td>NaN</td>\n",
       "      <td>NaN</td>\n",
       "      <td>NaN</td>\n",
       "      <td>NaN</td>\n",
       "      <td>NaN</td>\n",
       "      <td>NaN</td>\n",
       "      <td>NaN</td>\n",
       "      <td>NaN</td>\n",
       "      <td>NaN</td>\n",
       "      <td>NaN</td>\n",
       "      <td>NaN</td>\n",
       "      <td>NaN</td>\n",
       "      <td>NaN</td>\n",
       "      <td>NaN</td>\n",
       "    </tr>\n",
       "    <tr>\n",
       "      <td>4424</td>\n",
       "      <td>NaN</td>\n",
       "      <td>NaN</td>\n",
       "      <td>NaN</td>\n",
       "      <td>NaN</td>\n",
       "      <td>NaN</td>\n",
       "      <td>NaN</td>\n",
       "      <td>NaN</td>\n",
       "      <td>NaN</td>\n",
       "      <td>NaN</td>\n",
       "      <td>NaN</td>\n",
       "      <td>NaN</td>\n",
       "      <td>NaN</td>\n",
       "      <td>NaN</td>\n",
       "      <td>NaN</td>\n",
       "    </tr>\n",
       "    <tr>\n",
       "      <td>4425</td>\n",
       "      <td>NaN</td>\n",
       "      <td>NaN</td>\n",
       "      <td>NaN</td>\n",
       "      <td>NaN</td>\n",
       "      <td>NaN</td>\n",
       "      <td>NaN</td>\n",
       "      <td>NaN</td>\n",
       "      <td>NaN</td>\n",
       "      <td>NaN</td>\n",
       "      <td>NaN</td>\n",
       "      <td>NaN</td>\n",
       "      <td>NaN</td>\n",
       "      <td>NaN</td>\n",
       "      <td>NaN</td>\n",
       "    </tr>\n",
       "    <tr>\n",
       "      <td>4433</td>\n",
       "      <td>NaN</td>\n",
       "      <td>NaN</td>\n",
       "      <td>NaN</td>\n",
       "      <td>NaN</td>\n",
       "      <td>NaN</td>\n",
       "      <td>NaN</td>\n",
       "      <td>NaN</td>\n",
       "      <td>NaN</td>\n",
       "      <td>NaN</td>\n",
       "      <td>NaN</td>\n",
       "      <td>NaN</td>\n",
       "      <td>NaN</td>\n",
       "      <td>NaN</td>\n",
       "      <td>NaN</td>\n",
       "    </tr>\n",
       "    <tr>\n",
       "      <td>...</td>\n",
       "      <td>...</td>\n",
       "      <td>...</td>\n",
       "      <td>...</td>\n",
       "      <td>...</td>\n",
       "      <td>...</td>\n",
       "      <td>...</td>\n",
       "      <td>...</td>\n",
       "      <td>...</td>\n",
       "      <td>...</td>\n",
       "      <td>...</td>\n",
       "      <td>...</td>\n",
       "      <td>...</td>\n",
       "      <td>...</td>\n",
       "      <td>...</td>\n",
       "    </tr>\n",
       "    <tr>\n",
       "      <td>210577</td>\n",
       "      <td>NaN</td>\n",
       "      <td>NaN</td>\n",
       "      <td>NaN</td>\n",
       "      <td>NaN</td>\n",
       "      <td>NaN</td>\n",
       "      <td>NaN</td>\n",
       "      <td>NaN</td>\n",
       "      <td>NaN</td>\n",
       "      <td>NaN</td>\n",
       "      <td>NaN</td>\n",
       "      <td>NaN</td>\n",
       "      <td>NaN</td>\n",
       "      <td>NaN</td>\n",
       "      <td>NaN</td>\n",
       "    </tr>\n",
       "    <tr>\n",
       "      <td>210578</td>\n",
       "      <td>NaN</td>\n",
       "      <td>NaN</td>\n",
       "      <td>NaN</td>\n",
       "      <td>NaN</td>\n",
       "      <td>NaN</td>\n",
       "      <td>NaN</td>\n",
       "      <td>NaN</td>\n",
       "      <td>NaN</td>\n",
       "      <td>NaN</td>\n",
       "      <td>NaN</td>\n",
       "      <td>NaN</td>\n",
       "      <td>NaN</td>\n",
       "      <td>NaN</td>\n",
       "      <td>NaN</td>\n",
       "    </tr>\n",
       "    <tr>\n",
       "      <td>210579</td>\n",
       "      <td>NaN</td>\n",
       "      <td>NaN</td>\n",
       "      <td>NaN</td>\n",
       "      <td>NaN</td>\n",
       "      <td>NaN</td>\n",
       "      <td>NaN</td>\n",
       "      <td>NaN</td>\n",
       "      <td>NaN</td>\n",
       "      <td>NaN</td>\n",
       "      <td>NaN</td>\n",
       "      <td>NaN</td>\n",
       "      <td>NaN</td>\n",
       "      <td>NaN</td>\n",
       "      <td>NaN</td>\n",
       "    </tr>\n",
       "    <tr>\n",
       "      <td>213328</td>\n",
       "      <td>NaN</td>\n",
       "      <td>NaN</td>\n",
       "      <td>NaN</td>\n",
       "      <td>NaN</td>\n",
       "      <td>NaN</td>\n",
       "      <td>NaN</td>\n",
       "      <td>NaN</td>\n",
       "      <td>NaN</td>\n",
       "      <td>NaN</td>\n",
       "      <td>NaN</td>\n",
       "      <td>NaN</td>\n",
       "      <td>NaN</td>\n",
       "      <td>NaN</td>\n",
       "      <td>NaN</td>\n",
       "    </tr>\n",
       "    <tr>\n",
       "      <td>213339</td>\n",
       "      <td>NaN</td>\n",
       "      <td>NaN</td>\n",
       "      <td>NaN</td>\n",
       "      <td>NaN</td>\n",
       "      <td>NaN</td>\n",
       "      <td>NaN</td>\n",
       "      <td>NaN</td>\n",
       "      <td>NaN</td>\n",
       "      <td>NaN</td>\n",
       "      <td>NaN</td>\n",
       "      <td>NaN</td>\n",
       "      <td>NaN</td>\n",
       "      <td>NaN</td>\n",
       "      <td>NaN</td>\n",
       "    </tr>\n",
       "  </tbody>\n",
       "</table>\n",
       "<p>13896 rows × 14 columns</p>\n",
       "</div>"
      ],
      "text/plain": [
       "bodyparts F_spine1     G_spine2     H_spine3     I_spine4     J_spine5      \\\n",
       "coords           x   y        x   y        x   y        x   y        x   y   \n",
       "4413           NaN NaN      NaN NaN      NaN NaN      NaN NaN      NaN NaN   \n",
       "4423           NaN NaN      NaN NaN      NaN NaN      NaN NaN      NaN NaN   \n",
       "4424           NaN NaN      NaN NaN      NaN NaN      NaN NaN      NaN NaN   \n",
       "4425           NaN NaN      NaN NaN      NaN NaN      NaN NaN      NaN NaN   \n",
       "4433           NaN NaN      NaN NaN      NaN NaN      NaN NaN      NaN NaN   \n",
       "...            ...  ..      ...  ..      ...  ..      ...  ..      ...  ..   \n",
       "210577         NaN NaN      NaN NaN      NaN NaN      NaN NaN      NaN NaN   \n",
       "210578         NaN NaN      NaN NaN      NaN NaN      NaN NaN      NaN NaN   \n",
       "210579         NaN NaN      NaN NaN      NaN NaN      NaN NaN      NaN NaN   \n",
       "213328         NaN NaN      NaN NaN      NaN NaN      NaN NaN      NaN NaN   \n",
       "213339         NaN NaN      NaN NaN      NaN NaN      NaN NaN      NaN NaN   \n",
       "\n",
       "bodyparts K_spine6     L_spine7      \n",
       "coords           x   y        x   y  \n",
       "4413           NaN NaN      NaN NaN  \n",
       "4423           NaN NaN      NaN NaN  \n",
       "4424           NaN NaN      NaN NaN  \n",
       "4425           NaN NaN      NaN NaN  \n",
       "4433           NaN NaN      NaN NaN  \n",
       "...            ...  ..      ...  ..  \n",
       "210577         NaN NaN      NaN NaN  \n",
       "210578         NaN NaN      NaN NaN  \n",
       "210579         NaN NaN      NaN NaN  \n",
       "213328         NaN NaN      NaN NaN  \n",
       "213339         NaN NaN      NaN NaN  \n",
       "\n",
       "[13896 rows x 14 columns]"
      ]
     },
     "execution_count": 8,
     "metadata": {},
     "output_type": "execute_result"
    }
   ],
   "source": [
    "data_top1[data_top1.isnull()[\"F_spine1\"][\"x\"]== True].iloc[:,[i for i in range(15,15+7*3) if (i+1)%3 !=0]]"
   ]
  },
  {
   "cell_type": "markdown",
   "metadata": {},
   "source": [
    "following 13896 rows are all nan, so drop"
   ]
  },
  {
   "cell_type": "code",
   "execution_count": 9,
   "metadata": {},
   "outputs": [],
   "source": [
    "data_top2 = data_top1[data_top1.isnull()[\"F_spine1\"][\"x\"]== False].fillna(method = \"ffill\")"
   ]
  },
  {
   "cell_type": "code",
   "execution_count": 10,
   "metadata": {},
   "outputs": [],
   "source": [
    "# spline_point = [\"F_spine1\",\"G_spine2\",\"H_spine3\",\"I_spine4\",\"J_spine5\",\"K_spine6\",\"L_spine7\"]\n",
    "\n",
    "#for i in range(data_top2.shape[0]):\n",
    "#    x = data_top2.iloc[i,[i for i in range(15,15+7*3) if (i+1)%3 == 1]]\n",
    "#    y = data_top2.iloc[i,[i for i in range(15,15+7*3) if (i+1)%3 == 2]]\n",
    "    \n"
   ]
  },
  {
   "cell_type": "code",
   "execution_count": 11,
   "metadata": {},
   "outputs": [],
   "source": [
    "i=100005\n",
    "x = data_top2.iloc[i,[i for i in range(15,15+7*3) if (i+1)%3 == 1]]\n",
    "y = data_top2.iloc[i,[i for i in range(15,15+7*3) if (i+1)%3 == 2]]\n",
    "f = interpolate.interp1d(x, y)"
   ]
  },
  {
   "cell_type": "code",
   "execution_count": 12,
   "metadata": {
    "scrolled": true
   },
   "outputs": [
    {
     "data": {
      "image/png": "[encoded data removed]",
      "text/plain": [
       "<Figure size 432x288 with 1 Axes>"
      ]
     },
     "metadata": {
      "needs_background": "light"
     },
     "output_type": "display_data"
    }
   ],
   "source": [
    "pts = np.column_stack([x,y])\n",
    "x_new = np.arange(x.min(), x.max(), 0.1)\n",
    "y_new = f(x_new)\n",
    "\n",
    "plt.plot(pts[:,0], pts[:,1],\"ro\")\n",
    "plt.plot(x_new, y_new, 'b--')\n",
    "plt.show()"
   ]
  },
  {
   "cell_type": "code",
   "execution_count": 13,
   "metadata": {},
   "outputs": [
    {
     "name": "stderr",
     "output_type": "stream",
     "text": [
      "/opt/anaconda3/lib/python3.7/site-packages/scipy/interpolate/_fitpack_impl.py:226: RuntimeWarning: Setting x[0][7]=x[0][0]\n",
      "  (i, m, i)))\n",
      "/opt/anaconda3/lib/python3.7/site-packages/scipy/interpolate/_fitpack_impl.py:226: RuntimeWarning: Setting x[1][7]=x[1][0]\n",
      "  (i, m, i)))\n"
     ]
    },
    {
     "data": {
      "image/png": "[encoded data removed]",
      "text/plain": [
       "<Figure size 432x288 with 1 Axes>"
      ]
     },
     "metadata": {
      "needs_background": "light"
     },
     "output_type": "display_data"
    }
   ],
   "source": [
    "tck, u = interpolate.splprep(pts.T, u=None, s=0.0, per=1) \n",
    "u_new = np.linspace(u.min(), u.max(), 1000)\n",
    "x_new, y_new = interpolate.splev(u_new, tck, der=0)\n",
    "\n",
    "plt.plot(pts[:,0], pts[:,1], 'ro')\n",
    "plt.plot(x_new, y_new, 'b--')\n",
    "plt.show()"
   ]
  },
  {
   "cell_type": "code",
   "execution_count": 14,
   "metadata": {
    "scrolled": false
   },
   "outputs": [
    {
     "data": {
      "image/png": "[encoded data removed]",
      "text/plain": [
       "<Figure size 432x288 with 1 Axes>"
      ]
     },
     "metadata": {
      "needs_background": "light"
     },
     "output_type": "display_data"
    }
   ],
   "source": [
    "x, y = pts.T\n",
    "i = np.arange(len(pts))\n",
    "\n",
    "# 5x the original number of points\n",
    "interp_i = np.linspace(0, i.max(), 5 * i.max())\n",
    "\n",
    "xi = interpolate.interp1d(i, x, kind='cubic')(interp_i)\n",
    "yi = interpolate.interp1d(i, y, kind='cubic')(interp_i)\n",
    "\n",
    "fig, ax = plt.subplots()\n",
    "ax.plot(xi, yi)\n",
    "ax.plot(x, y, 'ko')\n",
    "plt.show()"
   ]
  },
  {
   "cell_type": "markdown",
   "metadata": {},
   "source": [
    "## find rot_matrix"
   ]
  },
  {
   "cell_type": "code",
   "execution_count": 15,
   "metadata": {},
   "outputs": [],
   "source": [
    "head = np.column_stack([data_top1[\"A_head\"][\"x\"],data_top1[\"A_head\"][\"y\"]])"
   ]
  },
  {
   "cell_type": "code",
   "execution_count": 16,
   "metadata": {},
   "outputs": [],
   "source": [
    "midpoint = np.column_stack(cs.midpoint(data_top1[\"B_rightoperculum\"][\"x\"],data_top1[\"B_rightoperculum\"][\"y\"],data_top1[\"E_leftoperculum\"][\"x\"],data_top1[\"E_leftoperculum\"][\"y\"]))"
   ]
  },
  {
   "cell_type": "code",
   "execution_count": 17,
   "metadata": {},
   "outputs": [],
   "source": [
    "head_r = head-midpoint\n",
    "midpoint_r = np.zeros(midpoint.shape)\n",
    "norm = []\n",
    "for i in range(len(head_r)):\n",
    "    norm.append(np.linalg.norm(head_r[i]))\n",
    "norm = np.array(norm)\n",
    "angle = np.column_stack([head_r[:,0]/norm, head_r[:,1]/norm])\n",
    "angle2 = np.column_stack([-angle[:,1],angle[:,0]])\n",
    "rot_matrix = np.column_stack([angle,angle2])"
   ]
  },
  {
   "cell_type": "code",
   "execution_count": 18,
   "metadata": {},
   "outputs": [
    {
     "data": {
      "text/plain": [
       "array([ 0.93412047,  0.35695792, -0.35695792,  0.93412047])"
      ]
     },
     "execution_count": 18,
     "metadata": {},
     "output_type": "execute_result"
    }
   ],
   "source": [
    "rot_matrix[1]"
   ]
  },
  {
   "cell_type": "code",
   "execution_count": 19,
   "metadata": {},
   "outputs": [],
   "source": [
    "## rotation matrix multiply\n",
    "#for i in range(100):\n",
    "    #print(np.dot(rot_matrix[i].reshape(2,2),head_r[i]))"
   ]
  },
  {
   "cell_type": "code",
   "execution_count": 30,
   "metadata": {},
   "outputs": [],
   "source": [
    "spline_point = []\n",
    "x_index = [i for i in range(15,15+7*3) if (i+1)%3 == 1]\n",
    "y_index = [i for i in range(15,15+7*3) if (i+1)%3 == 2]\n",
    "for j in range(1000,2000):\n",
    "    x = data_top2.iloc[j,x_index]\n",
    "    y = data_top2.iloc[j,y_index]\n",
    "    spline_point.append(np.column_stack([x,y]))\n"
   ]
  },
  {
   "cell_type": "markdown",
   "metadata": {},
   "source": [
    "## for i fps"
   ]
  },
  {
   "cell_type": "markdown",
   "metadata": {},
   "source": [
    "### plot the original coordinate"
   ]
  },
  {
   "cell_type": "code",
   "execution_count": 31,
   "metadata": {
    "scrolled": true
   },
   "outputs": [
    {
     "data": {
      "text/plain": [
       "[<matplotlib.lines.Line2D at 0x1c22eff790>]"
      ]
     },
     "execution_count": 31,
     "metadata": {},
     "output_type": "execute_result"
    },
    {
     "data": {
      "image/png": "[encoded data removed]",
      "text/plain": [
       "<Figure size 432x288 with 1 Axes>"
      ]
     },
     "metadata": {
      "needs_background": "light"
     },
     "output_type": "display_data"
    }
   ],
   "source": [
    "i = 500\n",
    "plt.plot(spline_point[i][:,0],spline_point[i][:,1],\"ro\")\n",
    "plt.plot(midpoint[i][0],midpoint[i][1],\"bo\")\n",
    "plt.plot(head[i][0],head[i][1],\"go\")"
   ]
  },
  {
   "cell_type": "markdown",
   "metadata": {},
   "source": [
    "### rotate the x axis to the head direction"
   ]
  },
  {
   "cell_type": "code",
   "execution_count": 32,
   "metadata": {},
   "outputs": [],
   "source": [
    "x = []\n",
    "for i in spline_point[1]:\n",
    "    x.append(np.dot(rot_matrix[1].reshape(2,2),i-midpoint[1]))\n",
    "x = np.vstack(x)\n",
    "head_r1 = np.dot(rot_matrix[1].reshape(2,2),head_r[1])"
   ]
  },
  {
   "cell_type": "code",
   "execution_count": 33,
   "metadata": {},
   "outputs": [
    {
     "data": {
      "text/plain": [
       "array([[ 17.90931936,   6.75743552],\n",
       "       [  6.8592654 ,   4.93966767],\n",
       "       [-10.83719677,   0.86360543],\n",
       "       [-21.98350134,   2.97513839],\n",
       "       [-33.50892546,   9.04580421],\n",
       "       [-39.89639429,  11.86700463],\n",
       "       [-54.61278996,  20.10923728]])"
      ]
     },
     "execution_count": 33,
     "metadata": {},
     "output_type": "execute_result"
    }
   ],
   "source": [
    "x"
   ]
  },
  {
   "cell_type": "code",
   "execution_count": 34,
   "metadata": {},
   "outputs": [
    {
     "data": {
      "text/plain": [
       "array([ 0.93412047,  0.35695792, -0.35695792,  0.93412047])"
      ]
     },
     "execution_count": 34,
     "metadata": {},
     "output_type": "execute_result"
    }
   ],
   "source": [
    "rot_matrix[1]"
   ]
  },
  {
   "cell_type": "markdown",
   "metadata": {},
   "source": [
    "### plot in new coordinate"
   ]
  },
  {
   "cell_type": "code",
   "execution_count": 35,
   "metadata": {},
   "outputs": [
    {
     "data": {
      "text/plain": [
       "[<matplotlib.lines.Line2D at 0x1c231c58d0>]"
      ]
     },
     "execution_count": 35,
     "metadata": {},
     "output_type": "execute_result"
    },
    {
     "data": {
      "image/png": "[encoded data removed]",
      "text/plain": [
       "<Figure size 432x288 with 1 Axes>"
      ]
     },
     "metadata": {
      "needs_background": "light"
     },
     "output_type": "display_data"
    }
   ],
   "source": [
    "i = 1\n",
    "plt.plot(x[:,0],x[:,1],\"ro\")\n",
    "plt.plot(midpoint_r[i][0],midpoint_r[i][1],\"bo\")\n",
    "plt.plot(head_r1[0],head_r1[1],\"go\")"
   ]
  },
  {
   "cell_type": "code",
   "execution_count": null,
   "metadata": {},
   "outputs": [],
   "source": [
    "pts = spline_point[1]\n",
    "tck, u = interpolate.splprep(pts.T, u=None, s=0.0, per=1) \n",
    "u_new = np.linspace(u.min(), u.max(), 1000)\n",
    "x_new, y_new = interpolate.splev(u_new, tck, der=0)\n",
    "\n",
    "plt.plot(pts[:,0], pts[:,1], 'ro')\n",
    "plt.plot(x_new, y_new, 'b--')\n",
    "plt.show()"
   ]
  },
  {
   "cell_type": "code",
   "execution_count": null,
   "metadata": {},
   "outputs": [],
   "source": [
    "pts = x\n",
    "tck, u = interpolate.splprep(pts.T, u=None, s=0.0, per=1) \n",
    "u_new = np.linspace(u.min(), u.max(), 1000)\n",
    "x_new, y_new = interpolate.splev(u_new, tck, der=0)\n",
    "\n",
    "plt.plot(pts[:,0], pts[:,1], 'ro')\n",
    "plt.plot(x_new, y_new, 'b--')\n",
    "plt.show()"
   ]
  },
  {
   "cell_type": "code",
   "execution_count": null,
   "metadata": {},
   "outputs": [],
   "source": []
  },
  {
   "cell_type": "code",
   "execution_count": null,
   "metadata": {},
   "outputs": [],
   "source": [
    "midpoint"
   ]
  },
  {
   "cell_type": "code",
   "execution_count": null,
   "metadata": {},
   "outputs": [],
   "source": []
  }
 ],
 "metadata": {
  "kernelspec": {
   "display_name": "Python 3",
   "language": "python",
   "name": "python3"
  },
  "language_info": {
   "codemirror_mode": {
    "name": "ipython",
    "version": 3
   },
   "file_extension": ".py",
   "mimetype": "text/x-python",
   "name": "python",
   "nbconvert_exporter": "python",
   "pygments_lexer": "ipython3",
   "version": "3.7.4"
  }
 },
 "nbformat": 4,
 "nbformat_minor": 2
}
