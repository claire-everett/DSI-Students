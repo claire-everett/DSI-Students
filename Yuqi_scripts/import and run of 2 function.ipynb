{
 "cells": [
  {
   "cell_type": "code",
   "execution_count": 61,
   "metadata": {},
   "outputs": [],
   "source": [
    "import ssm\n",
    "import h5py\n",
    "import numpy as np\n",
    "import pandas as pd\n",
    "import matplotlib.pyplot as plt\n",
    "import Conspecific_Tracking_ta_edit_117 as cs\n",
    "from scipy import interpolate \n",
    "from scipy import misc\n",
    "from beating import rotation,tail_spline"
   ]
  },
  {
   "cell_type": "code",
   "execution_count": 99,
   "metadata": {},
   "outputs": [],
   "source": [
    "path = \"/Users/miaoyuqi/研究/Statistical analyses of Siamese fighting fish aggressive behavior/DSI-Students/Yuqi_scripts/top example.h5\"\n",
    "f = pd.HDFStore(path,'r')\n",
    "data_top = f.get('df_with_missing')"
   ]
  },
  {
   "cell_type": "code",
   "execution_count": 100,
   "metadata": {
    "scrolled": true
   },
   "outputs": [
    {
     "name": "stderr",
     "output_type": "stream",
     "text": [
      "/opt/anaconda3/lib/python3.7/site-packages/ipykernel_launcher.py:2: SettingWithCopyWarning: \n",
      "A value is trying to be set on a copy of a slice from a DataFrame\n",
      "\n",
      "See the caveats in the documentation: http://pandas.pydata.org/pandas-docs/stable/user_guide/indexing.html#returning-a-view-versus-a-copy\n",
      "  \n"
     ]
    }
   ],
   "source": [
    "data_top.columns = data_top.columns.droplevel()\n",
    "data_top1 = cs.auto_scoring_tracefilter(data_top)"
   ]
  },
  {
   "cell_type": "code",
   "execution_count": 101,
   "metadata": {},
   "outputs": [],
   "source": [
    "data_top2 = data_top1[data_top1.isnull()[\"F_spine1\"][\"x\"]== False].fillna(method = \"ffill\")"
   ]
  },
  {
   "cell_type": "code",
   "execution_count": 89,
   "metadata": {},
   "outputs": [],
   "source": [
    "def rotation(data):\n",
    "    n = data.shape[0]\n",
    "    ## transfer spline data to point vector\n",
    "    spline_point = []\n",
    "    x_index = [0, 15, 18, 21, 24, 27, 30, 33]\n",
    "    y_index = [1, 16, 19, 22, 25, 28, 31, 34]\n",
    "    x = data.iloc[:,x_index]\n",
    "    y = data.iloc[:,y_index]\n",
    "    spline_point = np.column_stack([x,y])\n",
    "    \n",
    "    ## reference vector\n",
    "    head = np.column_stack([data.iloc[:,0],data.iloc[:,1]]) # dim = 216059, 2\n",
    "    spline1 = np.column_stack([data.iloc[:,15],data.iloc[:,16]])\n",
    "    # dim = 216059, 2\n",
    "    head_r = head-spline1 # reference vector to x axis\n",
    "    \n",
    "    ##  rotation matrix \n",
    "    norm = []\n",
    "    for i in range(len(head_r)):\n",
    "        norm.append(np.linalg.norm(head_r[i]))\n",
    "    norm = np.array(norm)\n",
    "    angle = np.column_stack([head_r[:,0]/norm, head_r[:,1]/norm])\n",
    "    angle2 = np.column_stack([-angle[:,1],angle[:,0]])\n",
    "    rot_matrix = np.column_stack([angle,angle2])\n",
    "    \n",
    "    ## rotate point coordinates\n",
    "    spline_rotate = []\n",
    "    for i in range(n):\n",
    "        x = []\n",
    "        for j in spline_point[i].reshape((8,2), order = \"F\"):\n",
    "            x.append((np.dot(rot_matrix[i].reshape(2,2),j-spline1[i])))\n",
    "        spline_rotate.append(x)\n",
    "    \n",
    "    return(spline_rotate)\n",
    "    \n",
    "    \n",
    "def tail_spline(rotate_points):\n",
    "    tail = []\n",
    "    for i in range(len(rotate_points)):\n",
    "        pts = np.array(rotate_points[i])\n",
    "        tck, u = interpolate.splprep(pts.T, u=None, s=0.0)\n",
    "        x = np.vstack(rotate_points[i])[:,0]\n",
    "        yder = interpolate.splev(u, tck, der=1)\n",
    "        tail.append((yder[1])/(yder[0]))\n",
    "    return(tail)"
   ]
  },
  {
   "cell_type": "code",
   "execution_count": 82,
   "metadata": {},
   "outputs": [],
   "source": [
    "rotate_spline = rotation(data_top2.iloc[90000:95000,:])"
   ]
  },
  {
   "cell_type": "code",
   "execution_count": 90,
   "metadata": {},
   "outputs": [],
   "source": [
    "y_der = tail_spline(rotate_spline)"
   ]
  },
  {
   "cell_type": "code",
   "execution_count": 93,
   "metadata": {},
   "outputs": [
    {
     "data": {
      "text/plain": [
       "array([-0.4187815 ,  0.30029501,  0.24497423, -0.02046735, -0.21943318,\n",
       "       -0.49153208, -1.05888663, -1.23305396])"
      ]
     },
     "execution_count": 93,
     "metadata": {},
     "output_type": "execute_result"
    }
   ],
   "source": [
    "i = 1000\n",
    "y_der[i]"
   ]
  },
  {
   "cell_type": "code",
   "execution_count": 94,
   "metadata": {},
   "outputs": [
    {
     "data": {
      "image/png": "[encoded data removed]",
      "text/plain": [
       "<Figure size 432x288 with 1 Axes>"
      ]
     },
     "metadata": {
      "needs_background": "light"
     },
     "output_type": "display_data"
    }
   ],
   "source": [
    "pts = np.array(rotate_spline[i])\n",
    "tck, u = interpolate.splprep(pts.T, u=None, s=0.0) \n",
    "u_new = np.linspace(u.min(), u.max(), 1000)\n",
    "x_new, y_new = interpolate.splev(u_new, tck, der=0)\n",
    "\n",
    "plt.plot(pts[:,0], pts[:,1], 'ro')\n",
    "plt.plot(x_new, y_new, 'b--')\n",
    "plt.show()"
   ]
  },
  {
   "cell_type": "code",
   "execution_count": null,
   "metadata": {},
   "outputs": [],
   "source": []
  }
 ],
 "metadata": {
  "kernelspec": {
   "display_name": "Python 3",
   "language": "python",
   "name": "python3"
  },
  "language_info": {
   "codemirror_mode": {
    "name": "ipython",
    "version": 3
   },
   "file_extension": ".py",
   "mimetype": "text/x-python",
   "name": "python",
   "nbconvert_exporter": "python",
   "pygments_lexer": "ipython3",
   "version": "3.7.4"
  }
 },
 "nbformat": 4,
 "nbformat_minor": 2
}
