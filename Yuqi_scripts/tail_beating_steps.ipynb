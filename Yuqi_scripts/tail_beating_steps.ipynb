{
 "cells": [
  {
   "cell_type": "code",
   "execution_count": 1,
   "metadata": {},
   "outputs": [],
   "source": [
    "import ssm\n",
    "import h5py\n",
    "import numpy as np\n",
    "import pandas as pd\n",
    "import matplotlib.pyplot as plt\n",
    "import Conspecific_Tracking_ta_edit_117 as cs\n",
    "from scipy import interpolate \n",
    "from scipy import misc\n",
    "from beating import rotation\n",
    "from beating import tail_spline,filter_tailbeating"
   ]
  },
  {
   "cell_type": "code",
   "execution_count": 2,
   "metadata": {},
   "outputs": [],
   "source": [
    "path = \"/Users/miaoyuqi/研究/Statistical analyses of Siamese fighting fish aggressive behavior/DSI-Students/Yuqi_scripts/top example.h5\"\n",
    "f = pd.HDFStore(path,'r')\n",
    "data_top = f.get('df_with_missing')"
   ]
  },
  {
   "cell_type": "code",
   "execution_count": 3,
   "metadata": {},
   "outputs": [
    {
     "name": "stderr",
     "output_type": "stream",
     "text": [
      "/opt/anaconda3/lib/python3.7/site-packages/pandas/core/generic.py:9114: SettingWithCopyWarning: \n",
      "A value is trying to be set on a copy of a slice from a DataFrame\n",
      "\n",
      "See the caveats in the documentation: http://pandas.pydata.org/pandas-docs/stable/user_guide/indexing.html#returning-a-view-versus-a-copy\n",
      "  self._update_inplace(new_data)\n",
      "/opt/anaconda3/lib/python3.7/site-packages/ipykernel_launcher.py:2: SettingWithCopyWarning: \n",
      "A value is trying to be set on a copy of a slice from a DataFrame\n",
      "\n",
      "See the caveats in the documentation: http://pandas.pydata.org/pandas-docs/stable/user_guide/indexing.html#returning-a-view-versus-a-copy\n",
      "  \n"
     ]
    }
   ],
   "source": [
    "data_top.columns = data_top.columns.droplevel()\n",
    "data_top1 = cs.auto_scoring_tracefilter(data_top)"
   ]
  },
  {
   "cell_type": "code",
   "execution_count": 4,
   "metadata": {},
   "outputs": [],
   "source": [
    "data_top2 = data_top1[data_top1.isnull()[\"F_spine1\"][\"x\"]== False].fillna(method = \"ffill\")"
   ]
  },
  {
   "cell_type": "code",
   "execution_count": 5,
   "metadata": {},
   "outputs": [
    {
     "data": {
      "text/html": [
       "<div>\n",
       "<style scoped>\n",
       "    .dataframe tbody tr th:only-of-type {\n",
       "        vertical-align: middle;\n",
       "    }\n",
       "\n",
       "    .dataframe tbody tr th {\n",
       "        vertical-align: top;\n",
       "    }\n",
       "\n",
       "    .dataframe thead tr th {\n",
       "        text-align: left;\n",
       "    }\n",
       "</style>\n",
       "<table border=\"1\" class=\"dataframe\">\n",
       "  <thead>\n",
       "    <tr>\n",
       "      <th>bodyparts</th>\n",
       "      <th colspan=\"3\" halign=\"left\">A_head</th>\n",
       "      <th colspan=\"3\" halign=\"left\">B_rightoperculum</th>\n",
       "      <th colspan=\"3\" halign=\"left\">C_tailbase</th>\n",
       "      <th>D_tailtip</th>\n",
       "      <th>...</th>\n",
       "      <th>N_righteye</th>\n",
       "      <th colspan=\"3\" halign=\"left\">O_dorsaltip</th>\n",
       "      <th colspan=\"3\" halign=\"left\">P_analtipfront</th>\n",
       "      <th colspan=\"3\" halign=\"left\">Q_analtipback</th>\n",
       "    </tr>\n",
       "    <tr>\n",
       "      <th>coords</th>\n",
       "      <th>x</th>\n",
       "      <th>y</th>\n",
       "      <th>likelihood</th>\n",
       "      <th>x</th>\n",
       "      <th>y</th>\n",
       "      <th>likelihood</th>\n",
       "      <th>x</th>\n",
       "      <th>y</th>\n",
       "      <th>likelihood</th>\n",
       "      <th>x</th>\n",
       "      <th>...</th>\n",
       "      <th>likelihood</th>\n",
       "      <th>x</th>\n",
       "      <th>y</th>\n",
       "      <th>likelihood</th>\n",
       "      <th>x</th>\n",
       "      <th>y</th>\n",
       "      <th>likelihood</th>\n",
       "      <th>x</th>\n",
       "      <th>y</th>\n",
       "      <th>likelihood</th>\n",
       "    </tr>\n",
       "  </thead>\n",
       "  <tbody>\n",
       "    <tr>\n",
       "      <td>0</td>\n",
       "      <td>415.946948</td>\n",
       "      <td>177.326215</td>\n",
       "      <td>0.959429</td>\n",
       "      <td>385.814809</td>\n",
       "      <td>183.664918</td>\n",
       "      <td>0.952570</td>\n",
       "      <td>318.217662</td>\n",
       "      <td>146.098751</td>\n",
       "      <td>0.673566</td>\n",
       "      <td>289.014949</td>\n",
       "      <td>...</td>\n",
       "      <td>0.984336</td>\n",
       "      <td>306.002802</td>\n",
       "      <td>139.314127</td>\n",
       "      <td>0.454427</td>\n",
       "      <td>386.164043</td>\n",
       "      <td>141.569612</td>\n",
       "      <td>0.011742</td>\n",
       "      <td>313.975855</td>\n",
       "      <td>142.270941</td>\n",
       "      <td>0.001547</td>\n",
       "    </tr>\n",
       "    <tr>\n",
       "      <td>1</td>\n",
       "      <td>418.014186</td>\n",
       "      <td>178.462459</td>\n",
       "      <td>0.955257</td>\n",
       "      <td>384.996427</td>\n",
       "      <td>183.167860</td>\n",
       "      <td>0.948758</td>\n",
       "      <td>320.453204</td>\n",
       "      <td>151.674863</td>\n",
       "      <td>0.568234</td>\n",
       "      <td>290.862930</td>\n",
       "      <td>...</td>\n",
       "      <td>0.964542</td>\n",
       "      <td>302.370958</td>\n",
       "      <td>140.394541</td>\n",
       "      <td>0.131689</td>\n",
       "      <td>373.335630</td>\n",
       "      <td>178.835227</td>\n",
       "      <td>0.024423</td>\n",
       "      <td>328.618773</td>\n",
       "      <td>150.077028</td>\n",
       "      <td>0.001636</td>\n",
       "    </tr>\n",
       "    <tr>\n",
       "      <td>2</td>\n",
       "      <td>417.105943</td>\n",
       "      <td>176.876360</td>\n",
       "      <td>0.943769</td>\n",
       "      <td>384.518239</td>\n",
       "      <td>181.424752</td>\n",
       "      <td>0.972419</td>\n",
       "      <td>320.338798</td>\n",
       "      <td>149.399992</td>\n",
       "      <td>0.639880</td>\n",
       "      <td>289.505597</td>\n",
       "      <td>...</td>\n",
       "      <td>0.933459</td>\n",
       "      <td>305.050504</td>\n",
       "      <td>139.756470</td>\n",
       "      <td>0.050716</td>\n",
       "      <td>372.818843</td>\n",
       "      <td>178.789937</td>\n",
       "      <td>0.017629</td>\n",
       "      <td>322.741209</td>\n",
       "      <td>150.062513</td>\n",
       "      <td>0.002204</td>\n",
       "    </tr>\n",
       "    <tr>\n",
       "      <td>3</td>\n",
       "      <td>416.606345</td>\n",
       "      <td>177.777748</td>\n",
       "      <td>0.985256</td>\n",
       "      <td>385.086024</td>\n",
       "      <td>182.960127</td>\n",
       "      <td>0.973279</td>\n",
       "      <td>321.837950</td>\n",
       "      <td>152.267511</td>\n",
       "      <td>0.390251</td>\n",
       "      <td>291.725096</td>\n",
       "      <td>...</td>\n",
       "      <td>0.958047</td>\n",
       "      <td>298.334596</td>\n",
       "      <td>138.285726</td>\n",
       "      <td>0.054004</td>\n",
       "      <td>373.832608</td>\n",
       "      <td>178.992960</td>\n",
       "      <td>0.020791</td>\n",
       "      <td>328.441117</td>\n",
       "      <td>149.989664</td>\n",
       "      <td>0.006967</td>\n",
       "    </tr>\n",
       "    <tr>\n",
       "      <td>4</td>\n",
       "      <td>419.273356</td>\n",
       "      <td>175.782816</td>\n",
       "      <td>0.969223</td>\n",
       "      <td>386.812540</td>\n",
       "      <td>181.418791</td>\n",
       "      <td>0.981919</td>\n",
       "      <td>317.064627</td>\n",
       "      <td>146.026957</td>\n",
       "      <td>0.575809</td>\n",
       "      <td>289.992651</td>\n",
       "      <td>...</td>\n",
       "      <td>0.956734</td>\n",
       "      <td>299.906851</td>\n",
       "      <td>139.701604</td>\n",
       "      <td>0.172871</td>\n",
       "      <td>375.286906</td>\n",
       "      <td>177.380033</td>\n",
       "      <td>0.024975</td>\n",
       "      <td>291.567868</td>\n",
       "      <td>138.161612</td>\n",
       "      <td>0.003067</td>\n",
       "    </tr>\n",
       "    <tr>\n",
       "      <td>...</td>\n",
       "      <td>...</td>\n",
       "      <td>...</td>\n",
       "      <td>...</td>\n",
       "      <td>...</td>\n",
       "      <td>...</td>\n",
       "      <td>...</td>\n",
       "      <td>...</td>\n",
       "      <td>...</td>\n",
       "      <td>...</td>\n",
       "      <td>...</td>\n",
       "      <td>...</td>\n",
       "      <td>...</td>\n",
       "      <td>...</td>\n",
       "      <td>...</td>\n",
       "      <td>...</td>\n",
       "      <td>...</td>\n",
       "      <td>...</td>\n",
       "      <td>...</td>\n",
       "      <td>...</td>\n",
       "      <td>...</td>\n",
       "      <td>...</td>\n",
       "    </tr>\n",
       "    <tr>\n",
       "      <td>216055</td>\n",
       "      <td>115.224273</td>\n",
       "      <td>428.042881</td>\n",
       "      <td>0.985239</td>\n",
       "      <td>130.866148</td>\n",
       "      <td>403.266978</td>\n",
       "      <td>0.793048</td>\n",
       "      <td>211.999958</td>\n",
       "      <td>405.722123</td>\n",
       "      <td>0.437744</td>\n",
       "      <td>269.359513</td>\n",
       "      <td>...</td>\n",
       "      <td>0.965007</td>\n",
       "      <td>219.245724</td>\n",
       "      <td>409.192145</td>\n",
       "      <td>0.012624</td>\n",
       "      <td>176.582889</td>\n",
       "      <td>417.658646</td>\n",
       "      <td>0.026593</td>\n",
       "      <td>206.345652</td>\n",
       "      <td>407.906617</td>\n",
       "      <td>0.003529</td>\n",
       "    </tr>\n",
       "    <tr>\n",
       "      <td>216056</td>\n",
       "      <td>112.109635</td>\n",
       "      <td>429.795300</td>\n",
       "      <td>0.948975</td>\n",
       "      <td>128.535094</td>\n",
       "      <td>404.710131</td>\n",
       "      <td>0.822822</td>\n",
       "      <td>217.711812</td>\n",
       "      <td>406.100222</td>\n",
       "      <td>0.159780</td>\n",
       "      <td>269.270312</td>\n",
       "      <td>...</td>\n",
       "      <td>0.973490</td>\n",
       "      <td>218.661550</td>\n",
       "      <td>408.480131</td>\n",
       "      <td>0.023082</td>\n",
       "      <td>180.040638</td>\n",
       "      <td>412.004125</td>\n",
       "      <td>0.046400</td>\n",
       "      <td>194.534151</td>\n",
       "      <td>407.084077</td>\n",
       "      <td>0.015347</td>\n",
       "    </tr>\n",
       "    <tr>\n",
       "      <td>216057</td>\n",
       "      <td>110.823496</td>\n",
       "      <td>428.584533</td>\n",
       "      <td>0.983084</td>\n",
       "      <td>127.850124</td>\n",
       "      <td>404.726947</td>\n",
       "      <td>0.922252</td>\n",
       "      <td>209.341100</td>\n",
       "      <td>402.889189</td>\n",
       "      <td>0.197096</td>\n",
       "      <td>265.111362</td>\n",
       "      <td>...</td>\n",
       "      <td>0.934129</td>\n",
       "      <td>209.103492</td>\n",
       "      <td>408.061889</td>\n",
       "      <td>0.008485</td>\n",
       "      <td>162.651323</td>\n",
       "      <td>422.723468</td>\n",
       "      <td>0.034243</td>\n",
       "      <td>192.216555</td>\n",
       "      <td>405.554355</td>\n",
       "      <td>0.003764</td>\n",
       "    </tr>\n",
       "    <tr>\n",
       "      <td>216058</td>\n",
       "      <td>107.593892</td>\n",
       "      <td>430.485992</td>\n",
       "      <td>0.988081</td>\n",
       "      <td>125.272988</td>\n",
       "      <td>404.186574</td>\n",
       "      <td>0.908140</td>\n",
       "      <td>213.543039</td>\n",
       "      <td>402.210792</td>\n",
       "      <td>0.184707</td>\n",
       "      <td>256.298375</td>\n",
       "      <td>...</td>\n",
       "      <td>0.854129</td>\n",
       "      <td>206.665428</td>\n",
       "      <td>410.733885</td>\n",
       "      <td>0.016047</td>\n",
       "      <td>172.478179</td>\n",
       "      <td>412.623683</td>\n",
       "      <td>0.039974</td>\n",
       "      <td>189.440412</td>\n",
       "      <td>404.005210</td>\n",
       "      <td>0.007338</td>\n",
       "    </tr>\n",
       "    <tr>\n",
       "      <td>216059</td>\n",
       "      <td>105.617214</td>\n",
       "      <td>428.754637</td>\n",
       "      <td>0.987205</td>\n",
       "      <td>124.094361</td>\n",
       "      <td>403.971402</td>\n",
       "      <td>0.903140</td>\n",
       "      <td>211.850021</td>\n",
       "      <td>400.798593</td>\n",
       "      <td>0.217004</td>\n",
       "      <td>260.408660</td>\n",
       "      <td>...</td>\n",
       "      <td>0.891931</td>\n",
       "      <td>203.930601</td>\n",
       "      <td>410.184324</td>\n",
       "      <td>0.013657</td>\n",
       "      <td>142.734169</td>\n",
       "      <td>396.243218</td>\n",
       "      <td>0.070764</td>\n",
       "      <td>202.025167</td>\n",
       "      <td>402.553108</td>\n",
       "      <td>0.009501</td>\n",
       "    </tr>\n",
       "  </tbody>\n",
       "</table>\n",
       "<p>202164 rows × 51 columns</p>\n",
       "</div>"
      ],
      "text/plain": [
       "bodyparts      A_head                        B_rightoperculum              \\\n",
       "coords              x           y likelihood                x           y   \n",
       "0          415.946948  177.326215   0.959429       385.814809  183.664918   \n",
       "1          418.014186  178.462459   0.955257       384.996427  183.167860   \n",
       "2          417.105943  176.876360   0.943769       384.518239  181.424752   \n",
       "3          416.606345  177.777748   0.985256       385.086024  182.960127   \n",
       "4          419.273356  175.782816   0.969223       386.812540  181.418791   \n",
       "...               ...         ...        ...              ...         ...   \n",
       "216055     115.224273  428.042881   0.985239       130.866148  403.266978   \n",
       "216056     112.109635  429.795300   0.948975       128.535094  404.710131   \n",
       "216057     110.823496  428.584533   0.983084       127.850124  404.726947   \n",
       "216058     107.593892  430.485992   0.988081       125.272988  404.186574   \n",
       "216059     105.617214  428.754637   0.987205       124.094361  403.971402   \n",
       "\n",
       "bodyparts             C_tailbase                          D_tailtip  ...  \\\n",
       "coords    likelihood           x           y likelihood           x  ...   \n",
       "0           0.952570  318.217662  146.098751   0.673566  289.014949  ...   \n",
       "1           0.948758  320.453204  151.674863   0.568234  290.862930  ...   \n",
       "2           0.972419  320.338798  149.399992   0.639880  289.505597  ...   \n",
       "3           0.973279  321.837950  152.267511   0.390251  291.725096  ...   \n",
       "4           0.981919  317.064627  146.026957   0.575809  289.992651  ...   \n",
       "...              ...         ...         ...        ...         ...  ...   \n",
       "216055      0.793048  211.999958  405.722123   0.437744  269.359513  ...   \n",
       "216056      0.822822  217.711812  406.100222   0.159780  269.270312  ...   \n",
       "216057      0.922252  209.341100  402.889189   0.197096  265.111362  ...   \n",
       "216058      0.908140  213.543039  402.210792   0.184707  256.298375  ...   \n",
       "216059      0.903140  211.850021  400.798593   0.217004  260.408660  ...   \n",
       "\n",
       "bodyparts N_righteye O_dorsaltip                        P_analtipfront  \\\n",
       "coords    likelihood           x           y likelihood              x   \n",
       "0           0.984336  306.002802  139.314127   0.454427     386.164043   \n",
       "1           0.964542  302.370958  140.394541   0.131689     373.335630   \n",
       "2           0.933459  305.050504  139.756470   0.050716     372.818843   \n",
       "3           0.958047  298.334596  138.285726   0.054004     373.832608   \n",
       "4           0.956734  299.906851  139.701604   0.172871     375.286906   \n",
       "...              ...         ...         ...        ...            ...   \n",
       "216055      0.965007  219.245724  409.192145   0.012624     176.582889   \n",
       "216056      0.973490  218.661550  408.480131   0.023082     180.040638   \n",
       "216057      0.934129  209.103492  408.061889   0.008485     162.651323   \n",
       "216058      0.854129  206.665428  410.733885   0.016047     172.478179   \n",
       "216059      0.891931  203.930601  410.184324   0.013657     142.734169   \n",
       "\n",
       "bodyparts                        Q_analtipback                         \n",
       "coords              y likelihood             x           y likelihood  \n",
       "0          141.569612   0.011742    313.975855  142.270941   0.001547  \n",
       "1          178.835227   0.024423    328.618773  150.077028   0.001636  \n",
       "2          178.789937   0.017629    322.741209  150.062513   0.002204  \n",
       "3          178.992960   0.020791    328.441117  149.989664   0.006967  \n",
       "4          177.380033   0.024975    291.567868  138.161612   0.003067  \n",
       "...               ...        ...           ...         ...        ...  \n",
       "216055     417.658646   0.026593    206.345652  407.906617   0.003529  \n",
       "216056     412.004125   0.046400    194.534151  407.084077   0.015347  \n",
       "216057     422.723468   0.034243    192.216555  405.554355   0.003764  \n",
       "216058     412.623683   0.039974    189.440412  404.005210   0.007338  \n",
       "216059     396.243218   0.070764    202.025167  402.553108   0.009501  \n",
       "\n",
       "[202164 rows x 51 columns]"
      ]
     },
     "execution_count": 5,
     "metadata": {},
     "output_type": "execute_result"
    }
   ],
   "source": [
    "data_top2"
   ]
  },
  {
   "cell_type": "code",
   "execution_count": 6,
   "metadata": {},
   "outputs": [
    {
     "name": "stderr",
     "output_type": "stream",
     "text": [
      "/opt/anaconda3/lib/python3.7/site-packages/ipykernel_launcher.py:1: SettingWithCopyWarning: \n",
      "A value is trying to be set on a copy of a slice from a DataFrame\n",
      "\n",
      "See the caveats in the documentation: http://pandas.pydata.org/pandas-docs/stable/user_guide/indexing.html#returning-a-view-versus-a-copy\n",
      "  \"\"\"Entry point for launching an IPython kernel.\n"
     ]
    }
   ],
   "source": [
    "data_tail = filter_tailbeating(data_top2)"
   ]
  },
  {
   "cell_type": "code",
   "execution_count": 17,
   "metadata": {},
   "outputs": [
    {
     "data": {
      "text/plain": [
       "[113447,\n",
       " 113447,\n",
       " 0,\n",
       " 0,\n",
       " 0,\n",
       " 0,\n",
       " 0,\n",
       " 0,\n",
       " 0,\n",
       " 0,\n",
       " 0,\n",
       " 0,\n",
       " 0,\n",
       " 0,\n",
       " 0,\n",
       " 0,\n",
       " 0,\n",
       " 0,\n",
       " 61253,\n",
       " 61253,\n",
       " 0,\n",
       " 110500,\n",
       " 110500,\n",
       " 0,\n",
       " 116881,\n",
       " 116881,\n",
       " 0,\n",
       " 63042,\n",
       " 63042,\n",
       " 0,\n",
       " 118471,\n",
       " 118471,\n",
       " 0,\n",
       " 173087,\n",
       " 173087,\n",
       " 0,\n",
       " 0,\n",
       " 0,\n",
       " 0,\n",
       " 0,\n",
       " 0,\n",
       " 0,\n",
       " 0,\n",
       " 0,\n",
       " 0,\n",
       " 0,\n",
       " 0,\n",
       " 0,\n",
       " 0,\n",
       " 0,\n",
       " 0]"
      ]
     },
     "execution_count": 17,
     "metadata": {},
     "output_type": "execute_result"
    }
   ],
   "source": [
    "na_list = []\n",
    "for i in range(data_tail.shape[1]):\n",
    "    na_list.append(sum(data_tail.iloc[:,i].isna()))\n",
    "na_list   "
   ]
  },
  {
   "cell_type": "code",
   "execution_count": 5,
   "metadata": {},
   "outputs": [],
   "source": [
    "rotate_spline = rotation(data_top2.iloc[90000:95000,:])"
   ]
  },
  {
   "cell_type": "code",
   "execution_count": 6,
   "metadata": {},
   "outputs": [],
   "source": [
    "# end-start = 9.757262229919434 min for 80000-150000"
   ]
  },
  {
   "cell_type": "markdown",
   "metadata": {},
   "source": [
    "## rotate validation"
   ]
  },
  {
   "cell_type": "code",
   "execution_count": 36,
   "metadata": {},
   "outputs": [],
   "source": [
    "head = np.column_stack([data_top2[\"A_head\"][\"x\"],data_top2[\"A_head\"][\"y\"]])\n",
    "spline1 = np.column_stack([data_top2[\"F_spine1\"][\"x\"],data_top2[\"F_spine1\"][\"y\"]])\n",
    "head_r = head-spline1\n",
    "spline1 = np.zeros(spline1.shape)\n",
    "norm = []\n",
    "for i in range(len(head_r)):\n",
    "    norm.append(np.linalg.norm(head_r[i]))\n",
    "norm = np.array(norm)\n",
    "angle = np.column_stack([head_r[:,0]/norm, head_r[:,1]/norm])\n",
    "angle2 = np.column_stack([-angle[:,1],angle[:,0]])\n",
    "rot_matrix = np.column_stack([angle,angle2])"
   ]
  },
  {
   "cell_type": "code",
   "execution_count": 41,
   "metadata": {},
   "outputs": [
    {
     "data": {
      "text/plain": [
       "[<matplotlib.lines.Line2D at 0x1c2ff36490>]"
      ]
     },
     "execution_count": 41,
     "metadata": {},
     "output_type": "execute_result"
    },
    {
     "data": {
      "image/png": "[encoded data removed]",
      "text/plain": [
       "<Figure size 432x288 with 1 Axes>"
      ]
     },
     "metadata": {
      "needs_background": "light"
     },
     "output_type": "display_data"
    }
   ],
   "source": [
    "point_set = {}\n",
    "for i in range(91000,91006):\n",
    "    head_n = np.dot(rot_matrix[i].reshape(2,2), head_r[i])\n",
    "    point_set[i] = np.vstack([head_n, rotate_spline[i-90000]])\n",
    "i = 91004\n",
    "x = point_set[i]\n",
    "plt.plot(x[:,0],x[:,1],\"ro\")"
   ]
  },
  {
   "cell_type": "markdown",
   "metadata": {},
   "source": [
    "## fit a interpolate"
   ]
  },
  {
   "cell_type": "code",
   "execution_count": 9,
   "metadata": {},
   "outputs": [],
   "source": [
    "i=1002\n",
    "x = np.vstack(rotate_spline[i])[:,0]\n",
    "y = np.vstack(rotate_spline[i])[:,1]\n",
    "#f = interpolate.interp1d(x,y)\n",
    "#f2 = interpolate.interp1d(x, y, kind='cubic')\n",
    "#xnew = np.linspace(min(x), max(x), num=41, endpoint=True)\n",
    "#plt.plot(x, y, 'o', xnew, f(xnew), '-', xnew, f2(xnew), '--')\n",
    "#plt.legend(['data', 'linear', 'cubic'], loc='best')\n",
    "#plt.show()"
   ]
  },
  {
   "cell_type": "code",
   "execution_count": 10,
   "metadata": {},
   "outputs": [],
   "source": [
    "#f = interpolate.InterpolatedUnivariateSpline(x[::-1],y[::-1])\n",
    "#f_1 = f.derivative()\n",
    "#f_1(x)"
   ]
  },
  {
   "cell_type": "code",
   "execution_count": 11,
   "metadata": {},
   "outputs": [],
   "source": [
    "#tck, u = interpolate.splprep([x, y], s=0)"
   ]
  },
  {
   "cell_type": "code",
   "execution_count": 12,
   "metadata": {},
   "outputs": [
    {
     "data": {
      "image/png": "[encoded data removed]",
      "text/plain": [
       "<Figure size 432x288 with 1 Axes>"
      ]
     },
     "metadata": {
      "needs_background": "light"
     },
     "output_type": "display_data"
    }
   ],
   "source": [
    "## interpolate function\n",
    "pts = np.array(rotate_spline[i])\n",
    "tck, u = interpolate.splprep(pts.T, u=None, s=0.0) \n",
    "u_new = np.linspace(u.min(), u.max(), 1000)\n",
    "x_new, y_new = interpolate.splev(u_new, tck, der=0)\n",
    "\n",
    "plt.plot(pts[:,0], pts[:,1], 'ro')\n",
    "plt.plot(x_new, y_new, 'b--')\n",
    "plt.show()"
   ]
  },
  {
   "cell_type": "code",
   "execution_count": 16,
   "metadata": {},
   "outputs": [],
   "source": [
    "yder = interpolate.splev(u, tck, der=1)"
   ]
  },
  {
   "cell_type": "code",
   "execution_count": 17,
   "metadata": {},
   "outputs": [
    {
     "data": {
      "text/plain": [
       "[array([ 12.38956065, -29.40807198, -34.39187696, -11.2331082 ,\n",
       "         12.51872952,  40.78658772,  61.76968167]),\n",
       " array([80.02429608, 64.16634669, 63.74170253, 70.85463656, 71.2906637 ,\n",
       "        59.22810396, 39.46026218])]"
      ]
     },
     "execution_count": 17,
     "metadata": {},
     "output_type": "execute_result"
    }
   ],
   "source": [
    "yder"
   ]
  },
  {
   "cell_type": "code",
   "execution_count": 18,
   "metadata": {},
   "outputs": [
    {
     "data": {
      "text/plain": [
       "array([ 0.15482249, -0.4583099 , -0.53955065, -0.15853738,  0.17560125,\n",
       "        0.68863571,  1.5653642 ])"
      ]
     },
     "execution_count": 18,
     "metadata": {},
     "output_type": "execute_result"
    }
   ],
   "source": [
    "(yder[0])/(yder[1])"
   ]
  },
  {
   "cell_type": "code",
   "execution_count": 15,
   "metadata": {},
   "outputs": [
    {
     "data": {
      "text/plain": [
       "array([  0.        ,  -3.5274497 ,  -8.64879986, -14.94535141,\n",
       "       -15.97873141,  -9.42325277,  -6.43239317])"
      ]
     },
     "execution_count": 15,
     "metadata": {},
     "output_type": "execute_result"
    }
   ],
   "source": [
    "x"
   ]
  },
  {
   "cell_type": "code",
   "execution_count": 28,
   "metadata": {},
   "outputs": [],
   "source": [
    "def tail_spline(rotate_points):\n",
    "    tail = []\n",
    "    for i in range(len(rotate_points)):\n",
    "        pts = np.array(rotate_points[i])\n",
    "        tck, u = interpolate.splprep(pts.T, u=None, s=0.0, per=1)\n",
    "        x = np.vstack(rotate_points[i])[:,0]\n",
    "        yder = interpolate.splev(u, tck, der=1)\n",
    "        tail.append((yder[0])/(yder[1]))\n",
    "    return(tail)"
   ]
  },
  {
   "cell_type": "code",
   "execution_count": null,
   "metadata": {},
   "outputs": [],
   "source": []
  }
 ],
 "metadata": {
  "kernelspec": {
   "display_name": "Python 3",
   "language": "python",
   "name": "python3"
  },
  "language_info": {
   "codemirror_mode": {
    "name": "ipython",
    "version": 3
   },
   "file_extension": ".py",
   "mimetype": "text/x-python",
   "name": "python",
   "nbconvert_exporter": "python",
   "pygments_lexer": "ipython3",
   "version": "3.7.4"
  }
 },
 "nbformat": 4,
 "nbformat_minor": 2
}
