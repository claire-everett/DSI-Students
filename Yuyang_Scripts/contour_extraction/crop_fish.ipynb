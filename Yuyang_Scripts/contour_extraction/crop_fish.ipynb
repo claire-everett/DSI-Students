{
  "nbformat": 4,
  "nbformat_minor": 0,
  "metadata": {
    "colab": {
      "name": "crop fish.ipynb",
      "provenance": [],
      "collapsed_sections": [],
      "machine_shape": "hm"
    },
    "kernelspec": {
      "display_name": "Python 3",
      "name": "python3"
    },
    "language_info": {
      "name": "python"
    }
  },
  "cells": [
    {
      "cell_type": "code",
      "metadata": {
        "colab": {
          "base_uri": "https://localhost:8080/",
          "height": 305
        },
        "id": "1fOqghmM3S9X",
        "outputId": "60207645-5dbb-413d-e6c8-6f52e39abb4d"
      },
      "source": [
        "from google.colab import drive\n",
        "drive.mount('/content/drive')"
      ],
      "execution_count": null,
      "outputs": [
        {
          "output_type": "error",
          "ename": "ValueError",
          "evalue": "ignored",
          "traceback": [
            "\u001b[0;31m---------------------------------------------------------------------------\u001b[0m",
            "\u001b[0;31mValueError\u001b[0m                                Traceback (most recent call last)",
            "\u001b[0;32m<ipython-input-2-5a06ee438a1f>\u001b[0m in \u001b[0;36m<module>\u001b[0;34m()\u001b[0m\n\u001b[1;32m      1\u001b[0m \u001b[0;32mfrom\u001b[0m \u001b[0mgoogle\u001b[0m\u001b[0;34m.\u001b[0m\u001b[0mcolab\u001b[0m \u001b[0;32mimport\u001b[0m \u001b[0mdrive\u001b[0m\u001b[0;34m\u001b[0m\u001b[0;34m\u001b[0m\u001b[0m\n\u001b[0;32m----> 2\u001b[0;31m \u001b[0mdrive\u001b[0m\u001b[0;34m.\u001b[0m\u001b[0m_mount\u001b[0m\u001b[0;34m(\u001b[0m\u001b[0;34m'/content/drive'\u001b[0m\u001b[0;34m)\u001b[0m\u001b[0;34m\u001b[0m\u001b[0;34m\u001b[0m\u001b[0m\n\u001b[0m",
            "\u001b[0;32m/usr/local/lib/python3.7/dist-packages/google/colab/drive.py\u001b[0m in \u001b[0;36m_mount\u001b[0;34m(mountpoint, force_remount, timeout_ms, use_metadata_server, ephemeral)\u001b[0m\n\u001b[1;32m    294\u001b[0m       \u001b[0mwrote_to_fifo\u001b[0m \u001b[0;34m=\u001b[0m \u001b[0;32mTrue\u001b[0m\u001b[0;34m\u001b[0m\u001b[0;34m\u001b[0m\u001b[0m\n\u001b[1;32m    295\u001b[0m     \u001b[0;32melif\u001b[0m \u001b[0mcase\u001b[0m \u001b[0;34m==\u001b[0m \u001b[0;36m5\u001b[0m \u001b[0;32mand\u001b[0m \u001b[0;32mnot\u001b[0m \u001b[0muse_metadata_server\u001b[0m\u001b[0;34m:\u001b[0m\u001b[0;34m\u001b[0m\u001b[0;34m\u001b[0m\u001b[0m\n\u001b[0;32m--> 296\u001b[0;31m       \u001b[0;32mraise\u001b[0m \u001b[0mValueError\u001b[0m\u001b[0;34m(\u001b[0m\u001b[0;34m'mount failed: invalid oauth code'\u001b[0m\u001b[0;34m)\u001b[0m\u001b[0;34m\u001b[0m\u001b[0;34m\u001b[0m\u001b[0m\n\u001b[0m\u001b[1;32m    297\u001b[0m     \u001b[0;32melif\u001b[0m \u001b[0mcase\u001b[0m \u001b[0;34m==\u001b[0m \u001b[0;36m6\u001b[0m\u001b[0;34m:\u001b[0m\u001b[0;34m\u001b[0m\u001b[0;34m\u001b[0m\u001b[0m\n\u001b[1;32m    298\u001b[0m       \u001b[0;31m# Terminate the DriveFS binary before killing bash.\u001b[0m\u001b[0;34m\u001b[0m\u001b[0;34m\u001b[0m\u001b[0;34m\u001b[0m\u001b[0m\n",
            "\u001b[0;31mValueError\u001b[0m: mount failed: invalid oauth code"
          ]
        }
      ]
    },
    {
      "cell_type": "code",
      "metadata": {
        "id": "FelIIjtB3c_Q"
      },
      "source": [
        "import os\n",
        "os.chdir('/content/drive/MyDrive/BendeskyLab/2FishEncounterDL')"
      ],
      "execution_count": null,
      "outputs": []
    },
    {
      "cell_type": "markdown",
      "metadata": {
        "id": "khHt9kp7gB7O"
      },
      "source": [
        "Tail Extraction"
      ]
    },
    {
      "cell_type": "code",
      "metadata": {
        "id": "rMV83_Pz19T3"
      },
      "source": [
        "import numpy as np\n",
        "import pandas as pd\n",
        "import cv2\n",
        "from tqdm import tqdm\n",
        "from scipy.ndimage import zoom  \n",
        "from contour_utils import *\n",
        "from find_features import features\n",
        "from scipy import sparse\n",
        "from LoopingArray import LoopingArray\n",
        "import pickle\n",
        "import matplotlib.pyplot as plt\n",
        "import os"
      ],
      "execution_count": null,
      "outputs": []
    },
    {
      "cell_type": "markdown",
      "source": [
        "Functions for extracting contour and tail position"
      ],
      "metadata": {
        "id": "BU9TBa20NTQN"
      }
    },
    {
      "cell_type": "code",
      "metadata": {
        "id": "3tayB5smE4k9"
      },
      "source": [
        "#!/usr/bin/env python3\n",
        "# -*- coding: utf-8 -*-\n",
        "\"\"\"\n",
        "Created on Wed Sep  2 11:39:13 2020\n",
        "\n",
        "@author: ryan\n",
        "\"\"\"\n",
        "\n",
        "#vidcap = cv2.VideoCapture(\"TailBeatingExamples/Copy of IM1_IM2_2.1.1_L.mp4\")\n",
        "#success,image=vidcap.read()\n",
        "\n",
        "\n",
        "#find a conservative mask to exclude reflections and noises\n",
        "def find_contour(videopath,head,length=40*300,start=0,step=1,pre_filter=None,threshold = 50,shrink_kernel = 3):\n",
        "    '''\n",
        "    prefilter:a function that changes mask array\n",
        "    length: Total number of frames needed\n",
        "    start: which frame to start\n",
        "    step:pick every * frame\n",
        "    thres: thresholding parameter when doing cv2.threshold\n",
        "    shrink_kernel: how much you want to shrink the thresholded mask to avoid reflections\n",
        "    '''\n",
        "    vidcap = cv2.VideoCapture(videopath)\n",
        "    contour_array=[]\n",
        "    length=int(length/step)\n",
        "    index=start\n",
        "    vidcap.set(1,index)\n",
        "    first = True\n",
        "    for i in tqdm(range(length)):\n",
        "        success,image=vidcap.read()\n",
        "        if success!=1:\n",
        "            print(\"process stops early at {}th iteration\".format(i))\n",
        "            break\n",
        "        if pre_filter is not None:\n",
        "            image = pre_filter(image)\n",
        "        #plt.figure()\n",
        "        #plt.imshow(image)\n",
        "        index+=step\n",
        "        vidcap.set(1,index)\n",
        "        gray = cv2.cvtColor(image, cv2.COLOR_BGR2GRAY)\n",
        "        #plt.figure()\n",
        "        #plt.imshow(gray,\"gray\")\n",
        "        ret,th = cv2.threshold(gray, threshold, 255, cv2.THRESH_BINARY)\n",
        "        #th=cv2.GaussianBlur(th, (3, 3), 0)\n",
        "        #first shrink the mask to get it separate from its reflection\n",
        "        if shrink_kernel>0:\n",
        "          k2 = cv2.getStructuringElement(cv2.MORPH_RECT, (shrink_kernel,shrink_kernel))\n",
        "          th = cv2.dilate(th, k2, iterations=1)\n",
        "        #plt.figure()\n",
        "        #plt.imshow(th,\"gray\")\n",
        "        #filter specific large black area, like 888 sign in other videos\n",
        "        contours, hierarchy = cv2.findContours(np.invert(th.copy()), cv2.RETR_TREE, cv2.CHAIN_APPROX_SIMPLE)#simplified contour pts\n",
        "        #finding the contour with largest area\n",
        "        fish_contour,flag=find_largest_contour(contours)\n",
        "        if flag==0:\n",
        "            print(\"no valid fish contour find at index {}\".format(i))\n",
        "            img=np.float32(np.full(image.shape,0))#just in case there's no valid contour, won't happen in the current case\n",
        "        else:\n",
        "            #draw only the mask of this contour\n",
        "            img=cv2.drawContours(np.float32(np.full(image.shape,255)),[fish_contour],0,(0,0,0),cv2.FILLED)\n",
        "        img=cv2.cvtColor(img,cv2.COLOR_BGR2GRAY)\n",
        "        #img=np.invert(np.array(img,np.uint8))\n",
        "        #zoom the mask a little bit because we shrink it before\n",
        "        if shrink_kernel>0:\n",
        "          k3=cv2.getStructuringElement(cv2.MORPH_RECT, (shrink_kernel+2,shrink_kernel+2))\n",
        "        else:\n",
        "          k3=cv2.getStructuringElement(cv2.MORPH_RECT, (3,3))\n",
        "        img=np.invert(np.array(cv2.erode(img,k3,iterations=1),np.uint8))\n",
        "        #smoothing\n",
        "        img=cv2.medianBlur(img, 5)\n",
        "        true_contour, hierarchy = cv2.findContours(img.copy(), cv2.RETR_TREE, cv2.CHAIN_APPROX_NONE)#complete contour pts\n",
        "        true_contour,flag=find_largest_contour(true_contour)\n",
        "        if flag == 0:\n",
        "          contour_array.append(np.random.randn(100,1,2))\n",
        "          continue\n",
        "        conservative_mask = np.array(cv2.drawContours(np.float32(np.full((img.shape[0],img.shape[1]),255)),[true_contour],0,(0,0,0),cv2.FILLED),np.uint8)\n",
        "        conservative_contour = true_contour\n",
        "        #re-thresholding image and try to include tail into the contour\n",
        "        ret,th = cv2.threshold(gray, threshold, 255, cv2.THRESH_BINARY)\n",
        "        k1 = cv2.getStructuringElement(cv2.MORPH_RECT, (5,5))\n",
        "        th = cv2.erode(th, k1, iterations=1)\n",
        "\n",
        "        xbar,ybar=find_centroid(conservative_contour)\n",
        "        dists=compute_dist(conservative_contour,xbar,ybar)\n",
        "        thres=np.quantile(dists,0.4)\n",
        "        y,x=np.nonzero(np.invert(th))#black area, i.e. fish body\n",
        "        head_x=head.x.iloc[i]\n",
        "        head_y=head.y.iloc[i]\n",
        "        th=exclusion(y,x,thres,xbar,ybar,head_x,head_y)           \n",
        "        th=np.minimum(th,conservative_mask)\n",
        "        th=np.invert(th)\n",
        "        contours, hierarchy = cv2.findContours(th, cv2.RETR_TREE, cv2.CHAIN_APPROX_SIMPLE)\n",
        "        fish_contour,flag=find_largest_contour(contours)\n",
        "        if flag==0:\n",
        "            print(\"no valid fish contour find at index {}\".format(index-1))\n",
        "            img=np.float32(np.full(image.shape,0))#just in case there's no valid contour, won't happen in the current case\n",
        "        else:\n",
        "            img=cv2.drawContours(np.float32(np.full(image.shape,255)),[fish_contour],0,(0,0,0),cv2.FILLED)\n",
        "        img=cv2.cvtColor(img,cv2.COLOR_BGR2GRAY)\n",
        "        #to get rid of small holes in the mask\n",
        "        k3=cv2.getStructuringElement(cv2.MORPH_RECT, (3,3))\n",
        "        img=np.invert(np.array(cv2.erode(img,k3,iterations=1),np.uint8))\n",
        "        img=cv2.medianBlur(img, 5)\n",
        "        true_contour, hierarchy = cv2.findContours(img.copy(), cv2.RETR_TREE, cv2.CHAIN_APPROX_NONE)#complete contour pts\n",
        "        true_contour,_=find_largest_contour(true_contour,interpolate=1)\n",
        "        try:\n",
        "            contour_array.append(true_contour)\n",
        "        except:\n",
        "            contour_array.append(np.zeros((1,1,2),dtype=np.float64))\n",
        "        \n",
        "        if first: #plot sample contour \n",
        "            sample_image = cv2.drawContours(image.copy(),[true_contour],0,(255,0,0),2)\n",
        "            plt.imshow(sample_image)\n",
        "            plt.savefig(\"sample_contour.png\")\n",
        "            print(\"sample contour of the first frame has been saved to sample_contour.png\")\n",
        "            first = False\n",
        "        \n",
        "    return contour_array\n",
        "def exclusion(y,x,thres,xbar,ybar,head_x,head_y):\n",
        "    dists1=compute_dist(np.vstack([x,y]).T,xbar,ybar)\n",
        "    #new found part should not be too close to the centroid(as it is tail)\n",
        "    flag1=dists1<thres\n",
        "    dists2=compute_dist(np.vstack([x,y]).T,head_x,head_y)\n",
        "    #new found part shall not be too close to the head, otherwise it is likely a reflection\n",
        "    flag2=dists2<thres\n",
        "    flag=np.logical_or(flag1,flag2)\n",
        "    x=x[~flag]\n",
        "    y=y[~flag]\n",
        "    data=np.full((len(x),),255)\n",
        "    output=np.invert(np.uint8(sparse.coo_matrix((data,(y,x)),shape=(IMAGELENGTH,IMAGELENGTH)).toarray()))\n",
        "    return output \n",
        "\n",
        "def head_on_contour(head_x,head_y,contour):\n",
        "    dists=compute_dist(contour,head_x,head_y)\n",
        "    index=np.argmin(dists)\n",
        "    return index\n",
        "\n",
        "def compute_cos_fullbody(contour, step=30):\n",
        "    #compute the curvature for full body\n",
        "    curviness=np.zeros((0,3),dtype=np.float64)\n",
        "    contour=contour.squeeze()\n",
        "    N = len(contour)\n",
        "    def find_next(i,step):\n",
        "        return contour[(i+step) % N]\n",
        "    def find_prev(i,step):\n",
        "        return contour[(i -step) % N]\n",
        "    for i in range(N):\n",
        "        x_cur, y_cur = contour[i]\n",
        "        x_next, y_next = find_next(i,step)\n",
        "        x_prev, y_prev = find_prev(i,step)\n",
        "        vec1=np.array([x_next-x_cur,y_next-y_cur])\n",
        "        vec2=np.array([x_prev-x_cur,y_prev-y_cur])\n",
        "        cos=np.sum(vec1*vec2)/np.sqrt(np.sum(vec1*vec1)*np.sum(vec2*vec2))\n",
        "        curviness=np.concatenate((curviness,np.array([x_cur,y_cur,cos+1]).reshape(1,3)))\n",
        "    return curviness\n",
        "\n",
        "def averageBlur(arr,neighbor_width=30):\n",
        "    #updating an array of curviness, make every element to the avg valye of its neighbor\n",
        "    #So the tail tip is more likely to get a higher score compared to its neighbors\n",
        "    out=arr.copy()\n",
        "    l=len(arr)\n",
        "    for i in range(l):\n",
        "        out[i]=np.sum(LoopingArray(arr)[(i-neighbor_width):i+neighbor_width+1])/(2*neighbor_width+1)\n",
        "    return out\n",
        "\n",
        "#after the runlengthEncoding on validity derived from distance to centroid,\n",
        "#some segments should be combined into longer segments\n",
        "def combine_small_segment(value,length,minimal_length=70):\n",
        "    l=len(value)\n",
        "    flag=0\n",
        "    #check if the starting point is a flipping point\n",
        "    if value[0]==value[l-1]:\n",
        "        temp=length[l-1]\n",
        "        flag=1\n",
        "        length[0]+=temp\n",
        "        value=value[:l-1]\n",
        "        length=length[:l-1]\n",
        "    new_val=[]\n",
        "    new_length=[]\n",
        "    stack=0\n",
        "    for i in range(len(value)):\n",
        "        ll=length[i]\n",
        "        #if the segment is smaller than certain length, put it to a existing segment\n",
        "        #if there is no such thing, prepare that for a future valid segment\n",
        "        if ll<minimal_length:\n",
        "            if new_val:                \n",
        "                new_length[len(new_length)-1]+=ll\n",
        "            else:\n",
        "                stack+=ll\n",
        "        else:\n",
        "            if len(new_val)==0 or new_val[::-1][0]!=value[i]:\n",
        "                new_val.append(value[i])\n",
        "                new_length.append(length[i]+stack)\n",
        "                stack=0\n",
        "            else:\n",
        "                new_length[len(new_length)-1]+=ll\n",
        "    if flag==1:\n",
        "        #put the length back when we first cut off the last piece at first\n",
        "        if new_val[len(new_length)-1]!=new_val[0]:\n",
        "            new_val.append(new_val[0])\n",
        "            new_length.append(temp)\n",
        "        else:\n",
        "            new_length[len(new_length)-1]+=temp\n",
        "        new_length[0]-=temp\n",
        "            \n",
        "    return np.array(new_val),np.array(new_length)\n",
        "\n",
        "def predict_tail(contour,head_index,step=None,quantile=0.4,neighbor_width=None,minimal_seg_length=23):\n",
        "    #default value, in case the image is/is not zoomed\n",
        "    if step is None:\n",
        "        step=[int(len(contour)/10),int(len(contour)/10)*1.5]\n",
        "    if neighbor_width is None:\n",
        "        neighbor_width=[int(len(contour)/20),int(len(contour)/20)]\n",
        "    xbar,ybar=find_centroid(contour)\n",
        "    dists=compute_dist(contour,xbar,ybar)\n",
        "    thres=np.quantile(dists,quantile)\n",
        "    #get whether the pts are far from the centroid\n",
        "    validity=dists>thres\n",
        "    l=len(dists)\n",
        "    value,length=runLengthEncoding(validity)\n",
        "    value,length=combine_small_segment(value, length,minimal_seg_length)\n",
        "    def find_segment(value,length):\n",
        "        #index of segment\n",
        "        l=len(value)\n",
        "        new_length=length.copy()\n",
        "        new_value=value.copy()\n",
        "        #append the last segment unfinished segment to the front to compare the length\n",
        "        if value[l-1]==value[0]:\n",
        "            new_length[0]=length[0]+length[l-1]\n",
        "            new_value=value[:-1]\n",
        "            new_length=new_length[:-1]\n",
        "        try:\n",
        "            #if the filtering goes wrong and less than 2 positive segments were found\n",
        "            longest,second_longest=np.sort(new_length[new_value==1])[::-1][:2]\n",
        "        except:\n",
        "            print(\"less than 2 segments found at index{}\".format(i))\n",
        "            return np.nan,np.nan,np.nan,np.nan\n",
        "        #finding the longest 2 segments which are far from centroid\n",
        "        if np.where(np.logical_and(new_value==1,new_length==longest))[0].shape[0]==1:\n",
        "            longest_positive_index=np.where(np.logical_and(new_value==1,new_length==longest))[0][0]\n",
        "            second_longest_positive_index=np.where(np.logical_and(new_value==1,new_length==second_longest))[0][0]\n",
        "        else:\n",
        "            #in case the 2 segments are of equal length\n",
        "            longest_positive_index=np.where(np.logical_and(new_value==1,new_length==longest))[0][0]\n",
        "            second_longest_positive_index=np.where(np.logical_and(new_value==1,new_length==second_longest))[0][1]\n",
        "        if longest_positive_index!=0:\n",
        "            longest_positive_interval=[np.sum(length[:longest_positive_index]),np.sum(length[:longest_positive_index+1])-1]\n",
        "        else:\n",
        "            longest_positive_interval=[np.sum(length[:-1])%len(contour),length[0]-1]\n",
        "        if second_longest_positive_index!=0:\n",
        "            second_longest_positive_interval=[np.sum(length[:second_longest_positive_index]),np.sum(length[:second_longest_positive_index+1])-1]\n",
        "        else:\n",
        "            second_longest_positive_interval=[np.sum(length[:-1])%len(contour),length[0]-1]\n",
        "        if (head_index<=longest_positive_interval[1] and \n",
        "            head_index>=longest_positive_interval[0]) or (head_index>=longest_positive_interval[0] \n",
        "            and longest_positive_interval[0]>longest_positive_interval[1]):\n",
        "            #if head in the first segment,return the second segment\n",
        "            return second_longest_positive_interval[0],second_longest_positive_interval[1],longest_positive_interval[0],longest_positive_interval[1]\n",
        "        elif (head_index<=second_longest_positive_interval[1] and \n",
        "              #if head in the second segment,return the first segment\n",
        "            head_index>=second_longest_positive_interval[0]) or (head_index>=second_longest_positive_interval[0] \n",
        "            and second_longest_positive_interval[0]>second_longest_positive_interval[1]):\n",
        "            return longest_positive_interval[0],longest_positive_interval[1],second_longest_positive_interval[0],second_longest_positive_interval[1]\n",
        "        else:\n",
        "            #if head index not inside the valid segment when the fish is too curved?\n",
        "            #choose tail segment as the segment furthur from the head_index\n",
        "            dist_to_longest=min((head_index-longest_positive_interval[0])%len(contour),(head_index-longest_positive_interval[1])%len(contour),\n",
        "                                (longest_positive_interval[0]-head_index)%len(contour),(longest_positive_interval[1]-head_index)%len(contour))\n",
        "            dist_to_second_longest=min((head_index-second_longest_positive_interval[0])%len(contour),(head_index-second_longest_positive_interval[1])%len(contour),\n",
        "                                (second_longest_positive_interval[0]-head_index)%len(contour),(second_longest_positive_interval[1]-head_index)%len(contour))\n",
        "            if dist_to_second_longest>=dist_to_longest:\n",
        "                return second_longest_positive_interval[0],second_longest_positive_interval[1],longest_positive_interval[0],longest_positive_interval[1]\n",
        "            else:\n",
        "                return longest_positive_interval[0],longest_positive_interval[1],second_longest_positive_interval[0],second_longest_positive_interval[1]\n",
        "            \n",
        "    tail_start,tail_end,head_start,head_end=find_segment(value,length)\n",
        "    curviness_score_tail=compute_cos_fullbody(contour,step=step[0])\n",
        "    curviness_score_head=compute_cos_fullbody(contour,step=step[1])\n",
        "    curviness=curviness_score_tail[:,2]\n",
        "    blurred_curviness=averageBlur(curviness,neighbor_width[0])\n",
        "    '''\n",
        "    sorry for using this imcomplete self defined class, i am just too confused by the ring structure of the contour\n",
        "    when slicing/getting items when keep using modulus\n",
        "    '''\n",
        "    if np.isnan(tail_start):\n",
        "        return np.nan,np.nan,curviness_score_tail,length\n",
        "    tail_segment=LoopingArray(blurred_curviness)[tail_start:tail_end+1]\n",
        "    tail_index=(np.argmax(tail_segment)+tail_start)%l\n",
        "    curviness=curviness_score_head[:,2]\n",
        "    blurred_curviness=averageBlur(curviness,neighbor_width[1])\n",
        "    head_segment=LoopingArray(blurred_curviness)[head_start:head_end+1]\n",
        "    better_head_index=(np.argmax(head_segment)+head_start)%l\n",
        "    return better_head_index,tail_index,curviness_score_tail,length\n",
        "def compute_TailAngle_Dev(head_index,tail_index,contour):\n",
        "    N=len(contour)\n",
        "    head_midline=[contour[head_index%N],(contour[(head_index+50)%N]+contour[(head_index-50)%N])/2]\n",
        "    tail_midline=[contour[tail_index%N],(contour[(tail_index+50)%N]+contour[(tail_index-50)%N])/2]\n",
        "    vec1=np.array(head_midline[0]-head_midline[1])\n",
        "    vec2=np.array(tail_midline[0]-tail_midline[1])\n",
        "    cos=np.sum(vec1*vec2)/(np.linalg.norm(vec1)*np.linalg.norm(vec2))\n",
        "    #numeric validity check\n",
        "    cos=max(min(cos,1),-1)\n",
        "    angle=np.arccos(cos)/np.pi*180\n",
        "    headx1,heady1=head_midline[0]\n",
        "    headx2,heady2=head_midline[1]\n",
        "    #headx2,heady2=head_midline[1]\n",
        "    tailx,taily=tail_midline[0]\n",
        "    if headx1==headx2:\n",
        "        d=abs(tailx-headx1)\n",
        "        k1=10000\n",
        "        b1=-k1*headx1\n",
        "    elif heady1==heady2:\n",
        "        d=abs(taily-heady1)\n",
        "        k1=0\n",
        "        b1=heady1\n",
        "    else:\n",
        "        k1=(heady1-heady2)/(headx1-headx2)\n",
        "        b1=heady2-k1*headx2\n",
        "        d=abs(k1*tailx-taily+b1)/np.sqrt(k1**2+1)\n",
        "    return angle,d"
      ],
      "execution_count": null,
      "outputs": []
    },
    {
      "cell_type": "code",
      "metadata": {
        "id": "Qtmqg9VcXSft"
      },
      "source": [
        "video_paths = ['/content/drive/MyDrive/DSI_h5/New_Training_Test_Set/Additional_RF_encounters/1.1.28/SEA_M1164_1.1.28_210529_pi2right_MM_final.mp4',\n",
        "                '/content/drive/MyDrive/DSI_h5/New_Training_Test_Set/Additional_RF_encounters/1.2.28/SEA_M1167_1.2.28_210529_pi3left_MM_final.mp4',\n",
        "                '/content/drive/MyDrive/DSI_h5/New_Training_Test_Set/Additional_RF_encounters/1.2.28/SEA_M1163_1.2.28_210529_pi3right_MM_final.mp4',\n",
        "                '/content/drive/MyDrive/DSI_h5/New_Training_Test_Set/Additional_RF_encounters/2.1.28/SEA_M1171_2.1.28_210529_pi6left_MM_final.mp4',\n",
        "                '/content/drive/MyDrive/DSI_h5/New_Training_Test_Set/Additional_RF_encounters/2.1.28/SEA_M1168_2.1.28_210529_pi6right_MM_final.mp4',\n",
        "                '/content/drive/MyDrive/DSI_h5/New_Training_Test_Set/Additional_RF_encounters/3.1.28/SEA_M1160_3.1.28_210529_pi10left_MM_final.mp4',\n",
        "                '/content/drive/MyDrive/DSI_h5/New_Training_Test_Set/Additional_RF_encounters/3.1.28/SEA_M1161_3.1.28_210529_pi10right_MM_final.mp4',\n",
        "                '/content/drive/MyDrive/DSI_h5/New_Training_Test_Set/Additional_RF_encounters/3.2.28/SEA_M1172_3.2.28_210529_pi11left_MM_final.mp4',\n",
        "                '/content/drive/MyDrive/DSI_h5/New_Training_Test_Set/Additional_RF_encounters/3.2.28/SEA_M1170_3.2.28_210529_pi11right_MM_final.mp4',\n",
        "                ]\n",
        "h5_paths = ['/content/drive/MyDrive/DSI_h5/New_Training_Test_Set/Additional_RF_encounters/1.1.28/SEA_M1164_1.1.28_210529_pi2right_MM_finalDLC_resnet50_DLC_toptrackFeb27shuffle1_1030000.h5',\n",
        "            '/content/drive/MyDrive/DSI_h5/New_Training_Test_Set/Additional_RF_encounters/1.2.28/SEA_M1167_1.2.28_210529_pi3left_MM_finalDLC_resnet50_DLC_toptrackFeb27shuffle1_1030000.h5',\n",
        "            '/content/drive/MyDrive/DSI_h5/New_Training_Test_Set/Additional_RF_encounters/1.2.28/SEA_M1163_1.2.28_210529_pi3right_MM_finalDLC_resnet50_DLC_toptrackFeb27shuffle1_1030000.h5',\n",
        "            '/content/drive/MyDrive/DSI_h5/New_Training_Test_Set/Additional_RF_encounters/2.1.28/SEA_M1171_2.1.28_210529_pi6left_MM_finalDLC_resnet50_DLC_toptrackFeb27shuffle1_1030000.h5',\n",
        "            '/content/drive/MyDrive/DSI_h5/New_Training_Test_Set/Additional_RF_encounters/2.1.28/SEA_M1168_2.1.28_210529_pi6right_MM_finalDLC_resnet50_DLC_toptrackFeb27shuffle1_1030000.h5',\n",
        "            '/content/drive/MyDrive/DSI_h5/New_Training_Test_Set/Additional_RF_encounters/3.1.28/SEA_M1160_3.1.28_210529_pi10left_MM_finalDLC_resnet50_DLC_toptrackFeb27shuffle1_1030000.h5',\n",
        "            '/content/drive/MyDrive/DSI_h5/New_Training_Test_Set/Additional_RF_encounters/3.1.28/SEA_M1161_3.1.28_210529_pi10right_MM_finalDLC_resnet50_DLC_toptrackFeb27shuffle1_1030000.h5',\n",
        "            '/content/drive/MyDrive/DSI_h5/New_Training_Test_Set/Additional_RF_encounters/3.2.28/SEA_M1172_3.2.28_210529_pi11left_MM_finalDLC_resnet50_DLC_toptrackFeb27shuffle1_1030000.h5',\n",
        "            '/content/drive/MyDrive/DSI_h5/New_Training_Test_Set/Additional_RF_encounters/3.2.28/SEA_M1170_3.2.28_210529_pi11right_MM_finalDLC_resnet50_DLC_toptrackFeb27shuffle1_1030000.h5']\n",
        "\n",
        "manual_paths = ['/content/drive/MyDrive/DSI_h5/New_Training_Test_Set/Additional_RF_encounters/1.1.28/210529_SEA_1.1.28_pi2right_1164_MM_femaleseq_amy.xlsx',\n",
        "                '/content/drive/MyDrive/DSI_h5/New_Training_Test_Set/Additional_RF_encounters/1.2.28/210529_SEA_1.2.28_pi3left_1167_MM_femaleseq_amy.xlsx',\n",
        "                '/content/drive/MyDrive/DSI_h5/New_Training_Test_Set/Additional_RF_encounters/1.2.28/210529_SEA_1.2.28_pi3right_1163_MM_femaleseq_amy.xlsx',\n",
        "                '/content/drive/MyDrive/DSI_h5/New_Training_Test_Set/Additional_RF_encounters/2.1.28/210529_SEA_2.1.28_pi6left_1171_MM_femaleseq_amy.xlsx',\n",
        "                '/content/drive/MyDrive/DSI_h5/New_Training_Test_Set/Additional_RF_encounters/2.1.28/210529_SEA_2.1.28_pi6right_1168_MM_femaleseq_amy.xlsx',\n",
        "                '/content/drive/MyDrive/DSI_h5/New_Training_Test_Set/Additional_RF_encounters/3.1.28/210529_SEA_3.1.28_pi10left_1160_MM_femaleseq_amy.xlsx',\n",
        "                '/content/drive/MyDrive/DSI_h5/New_Training_Test_Set/Additional_RF_encounters/3.1.28/210529_SEA_3.1.28_pi10right_1161_MM_femaleseq_amy.xlsx',\n",
        "                '/content/drive/MyDrive/DSI_h5/New_Training_Test_Set/Additional_RF_encounters/3.2.28/210529_SEA_3.2.28_pi11left_1172_MM_femaleseq_amy.xlsx',\n",
        "                '/content/drive/MyDrive/DSI_h5/New_Training_Test_Set/Additional_RF_encounters/3.2.28/210529_SEA_3.2.28_pi11right_1170_MM_femaleseq_amy.xlsx']"
      ],
      "execution_count": null,
      "outputs": []
    },
    {
      "cell_type": "code",
      "metadata": {
        "id": "WqXt-I6Tii0_"
      },
      "source": [
        "class Args:\n",
        "  video_path = None\n",
        "  h5_path = None\n",
        "  manual_path = None\n",
        "  output_root = '/content/drive/MyDrive/BendeskyLab/2FishEncounterDL'\n",
        "  thres = 50 #thresholding parameter 0-255, 0 = black, 255 = white\n",
        "  shrink_kernel = 7 #the parameter in cv2.erode and cv2.dilate"
      ],
      "execution_count": null,
      "outputs": []
    },
    {
      "cell_type": "markdown",
      "source": [
        "There will be some black area showing time in the video, you can remove that area by defining the pre_filter function, it will make the corresponding area white."
      ],
      "metadata": {
        "id": "KM_RNy4QOjxg"
      }
    },
    {
      "cell_type": "code",
      "metadata": {
        "colab": {
          "base_uri": "https://localhost:8080/",
          "height": 1000
        },
        "id": "CbRvAAEYjM8K",
        "outputId": "a74c2616-7003-4f6c-c220-1c388b96706b"
      },
      "source": [
        "for i in range(len(video_paths)):\n",
        "  IMAGELENGTH=500\n",
        "  fps=40\n",
        "\n",
        "  args = Args()\n",
        "  args.video_path = video_paths[i]\n",
        "  args.h5_path = h5_paths[i]\n",
        "  #args.manual_path = manual_paths[i]\n",
        "  videopath = args.video_path\n",
        "  video_path = videopath\n",
        "  #manual_path = args.manual_path\n",
        "  h5_path = args.h5_path\n",
        "  #manual_flare = pd.read_excel(manual_path)\n",
        "  #manual_flare = pd.DataFrame(manual_flare,dtype = int)\n",
        "  start = 72000\n",
        "  stop = 144000     \n",
        "  fish_name = \".\".join(os.path.basename(video_path).split(\".\")[:-1])\n",
        "  output_dir = os.path.join(args.output_root,fish_name)\n",
        "  if not os.path.exists(output_dir):\n",
        "      os.makedirs(output_dir)\n",
        "  \n",
        "  #if i == 1:\n",
        "  def pre_filter(x):\n",
        "    out = x.copy()\n",
        "    out[:10,:] = 255\n",
        "    out[-10:,:] = 255\n",
        "    out[:,:10] = 255\n",
        "    out[:,-10:] = 255\n",
        "    #out[:70,350:] = 255\n",
        "    return out\n",
        "  '''\n",
        "  elif i == 2:\n",
        "    def pre_filter(x):\n",
        "      out = x.copy()\n",
        "      out[:10,:] = 255\n",
        "      out[-10:,:] = 255\n",
        "      out[:,:10] = 255\n",
        "      out[:,-10:] = 255\n",
        "      out[:60,:200] = 255\n",
        "      return out\n",
        "  \n",
        "  else:\n",
        "    def pre_filter(x):\n",
        "      out = x.copy()\n",
        "      out[:20,:] = 255\n",
        "      out[-20:,:] = 255\n",
        "      out[:,:20] = 255\n",
        "      out[:,-20:] = 255   \n",
        "      return out\n",
        "  '''\n",
        "  path = h5_path\n",
        "  f = pd.HDFStore(path,'r')\n",
        "  df = f.get('df_with_missing')\n",
        "  df.columns = df.columns.droplevel()\n",
        "  df=df.iloc[start:stop,:]\n",
        "  new_features=features(starttime=0,endtime=stop-start)\n",
        "  filtered_df=new_features.filter_df(df,add_midpoint=True)\n",
        "  #filtered_head=relative_position_check(filtered_df.A_head)\n",
        "  filtered_head=df.A_head\n",
        "  filtered_head=filtered_head.fillna(method=\"ffill\")\n",
        "  filtered_head=filtered_head.fillna(method=\"bfill\") #just to make sure no NAs\n",
        "  new_features.fit(filtered_df)\n",
        "  features_df,_,_,_ = new_features.export_df()\n",
        "  features_df.to_csv(os.path.join(output_dir,\"base_features.csv\"),index = False)\n",
        "\n",
        "  #get a better contour using head position from DLC and thresholding again.\n",
        "  #the previous mask is also needed to remove some noise near fish's contour caused by raising the threshold\n",
        "  new_contour_array=find_contour(video_path,filtered_head,start=start,length = stop - start,step=1,threshold = args.thres,shrink_kernel = args.shrink_kernel,pre_filter = pre_filter)\n",
        "  with open(os.path.join(output_dir,\"refined_contour\"), \"wb\") as fp:\n",
        "      pickle.dump(new_contour_array, fp)\n",
        "\n",
        "  decorated_result = cv2.VideoWriter(os.path.join(output_dir,\"valid_video0.mp4\"),cv2.VideoWriter_fourcc(*'mp4v'), fps, (IMAGELENGTH,IMAGELENGTH))\n",
        "  i = 0\n",
        "  cap = cv2.VideoCapture(videopath) \n",
        "  index = start\n",
        "  cap.set(1,index)\n",
        "  while True:\n",
        "      ret, frame = cap.read() \n",
        "      if not ret or index >= min(start+10000,stop):\n",
        "          break\n",
        "      if (index - start) %1000 == 0:\n",
        "        print(\"current index {}\".format(index))\n",
        "      frame = cv2.cvtColor(frame,cv2.COLOR_BGR2RGB)\n",
        "      '''\n",
        "      if flag==0:\n",
        "          print(\"no valid fish contour find at index {}\".format(index))\n",
        "          img=np.float32(np.full(frame.shape,0))#just in case there's no valid contour, won't happen in the current case\n",
        "      else:\n",
        "          #draw only the mask of this contour\n",
        "          img=cv2.drawContours(np.float32(np.full(frame.shape,255)),[fish_contour],0,(0,0,0),cv2.FILLED)\n",
        "      '''\n",
        "      cur_contour = new_contour_array[i]\n",
        "      frame = cv2.drawContours(frame,[cur_contour],0,(255,0,0),2)\n",
        "      decorated_result.write(frame)\n",
        "      index += 1\n",
        "      i += 1\n",
        "  decorated_result.release()\n",
        "  print(\"complete extract contour\")  \n",
        "  #find head and tail position\n",
        "  curve_scores=[]\n",
        "  tail_indexs=[]\n",
        "  better_head_indexs=[]\n",
        "  lengths=[]\n",
        "  head_x=np.array(filtered_head.x)\n",
        "  head_y=np.array(filtered_head.y)\n",
        "  #no interpolate this time, contour coordinates should be within 0-500\n",
        "  for i in tqdm(range(len(new_contour_array))):\n",
        "      contour=new_contour_array[i]\n",
        "      head_index=head_on_contour(head_x[i], head_y[i], contour)\n",
        "      better_head_index,tail_index,curve_score,length=predict_tail(contour,head_index,step=[33,57],neighbor_width=[17,17],minimal_seg_length=15)\n",
        "      tail_indexs.append(tail_index)\n",
        "      curve_scores.append(curve_score)\n",
        "      lengths.append(length)\n",
        "      better_head_indexs.append(better_head_index)\n",
        "\n",
        "  head_indexs=pd.Series(better_head_indexs).fillna(method=\"ffill\").fillna(method = \"bfill\").astype(int)\n",
        "  tail_indexs=pd.Series(tail_indexs).fillna(method=\"ffill\").fillna(method = \"bfill\").astype(int)\n",
        "      \n",
        "  with open(os.path.join(output_dir,\"curve_scores\"), \"wb\") as fp:\n",
        "      pickle.dump(curve_scores, fp)\n",
        "      \n",
        "  with open(os.path.join(output_dir,\"tail_index\"), \"wb\") as fp:\n",
        "      pickle.dump(tail_indexs.tolist(), fp)   \n",
        "      \n",
        "  with open(os.path.join(output_dir,\"head_index\"), \"wb\") as fp:\n",
        "      pickle.dump(head_indexs.tolist(), fp)    \n",
        "\n",
        "  with open(os.path.join(output_dir,\"fish_segment_length\"), \"wb\") as fp:\n",
        "      pickle.dump(lengths, fp)       \n",
        "      \n",
        "  print(\"tail feature extracted!\")\n",
        "  tail_angles=[]\n",
        "  tail_devs=[]\n",
        "  for i in range(len(new_contour_array)):\n",
        "      contour=curve_scores[i][:,:2]\n",
        "      contour=contour.squeeze()\n",
        "      head_index=head_indexs[i]\n",
        "      tail_index=tail_indexs[i]\n",
        "      tail_angle,tail_dev=compute_TailAngle_Dev(head_index,tail_index,contour)\n",
        "      tail_angles.append(tail_angle)\n",
        "      tail_devs.append(tail_dev)\n",
        "  tail_angles=np.array(tail_angles)\n",
        "  tail_devs=np.array(tail_devs)\n",
        "\n",
        "  with open(os.path.join(output_dir,\"tailAngle\"),\"wb\") as fp:\n",
        "      pickle.dump(tail_angles, fp)    \n",
        "\n",
        "  with open(os.path.join(output_dir,\"tail_dev\"), \"wb\") as fp:\n",
        "      pickle.dump(tail_devs, fp)    \n",
        "\n",
        "  #make validation video\n",
        "  decorated_result = cv2.VideoWriter(os.path.join(output_dir,\"valid_video.mp4\"),cv2.VideoWriter_fourcc(*'mp4v'), fps, (IMAGELENGTH,IMAGELENGTH))\n",
        "  i = 0\n",
        "  cap = cv2.VideoCapture(videopath) \n",
        "  index = start\n",
        "  cap.set(1,index)\n",
        "  while True:\n",
        "      ret, frame = cap.read() \n",
        "      if not ret or index >= min(start+10000,stop):\n",
        "          break\n",
        "      if (index - start) %1000 == 0:\n",
        "        print(\"current index {}\".format(index))\n",
        "      frame = cv2.cvtColor(frame,cv2.COLOR_BGR2RGB)\n",
        "      '''\n",
        "      if flag==0:\n",
        "          print(\"no valid fish contour find at index {}\".format(index))\n",
        "          img=np.float32(np.full(frame.shape,0))#just in case there's no valid contour, won't happen in the current case\n",
        "      else:\n",
        "          #draw only the mask of this contour\n",
        "          img=cv2.drawContours(np.float32(np.full(frame.shape,255)),[fish_contour],0,(0,0,0),cv2.FILLED)\n",
        "      '''\n",
        "      cur_contour = new_contour_array[i]\n",
        "      cur_contour = np.array(cur_contour,dtype = np.int32)\n",
        "      #cur_head_index = head_indexs.iloc[i]\n",
        "      cur_tail_index = tail_indexs.iloc[i]\n",
        "      l = len(cur_contour)\n",
        "      head_x,head_y = filtered_head.x.iloc[i],filtered_head.y.iloc[i]\n",
        "      #head_x,head_y = new_contour_array[i][cur_head_index%l][0]\n",
        "      tail_x,tail_y = new_contour_array[i][cur_tail_index%l][0]\n",
        "      \n",
        "      frame = cv2.circle(frame, (int(head_x),int(head_y)), 5, (0,0,255), -1)\n",
        "      frame = cv2.circle(frame, (int(tail_x),int(tail_y)), 5, (0,255,0), -1)\n",
        "      frame = cv2.drawContours(frame,[cur_contour],0,(255,0,0),2)\n",
        "      decorated_result.write(frame)\n",
        "      index += 1\n",
        "      i += 1\n",
        "  decorated_result.release()"
      ],
      "execution_count": null,
      "outputs": [
        {
          "output_type": "stream",
          "name": "stderr",
          "text": [
            "  0%|          | 3/72000 [00:01<5:57:10,  3.36it/s] "
          ]
        },
        {
          "output_type": "stream",
          "name": "stdout",
          "text": [
            "sample contour of the first frame has been saved to sample_contour.png\n"
          ]
        },
        {
          "output_type": "stream",
          "name": "stderr",
          "text": [
            "100%|██████████| 72000/72000 [1:37:02<00:00, 12.37it/s]\n"
          ]
        },
        {
          "output_type": "stream",
          "name": "stdout",
          "text": [
            "current index 72000\n",
            "current index 73000\n",
            "current index 74000\n",
            "current index 75000\n",
            "current index 76000\n",
            "current index 77000\n",
            "current index 78000\n",
            "current index 79000\n",
            "current index 80000\n",
            "current index 81000\n",
            "complete extract contour\n"
          ]
        },
        {
          "output_type": "stream",
          "name": "stderr",
          "text": [
            "  0%|          | 193/72000 [00:06<37:49, 31.64it/s]"
          ]
        },
        {
          "output_type": "stream",
          "name": "stdout",
          "text": [
            "less than 2 segments found at index190\n",
            "less than 2 segments found at index191\n"
          ]
        },
        {
          "output_type": "stream",
          "name": "stderr",
          "text": [
            "  9%|▉         | 6414/72000 [03:34<38:16, 28.56it/s]"
          ]
        },
        {
          "output_type": "stream",
          "name": "stdout",
          "text": [
            "less than 2 segments found at index6410\n",
            "less than 2 segments found at index6411\n",
            "less than 2 segments found at index6412\n",
            "less than 2 segments found at index6413\n"
          ]
        },
        {
          "output_type": "stream",
          "name": "stderr",
          "text": [
            "  9%|▉         | 6669/72000 [03:42<36:30, 29.82it/s]"
          ]
        },
        {
          "output_type": "stream",
          "name": "stdout",
          "text": [
            "less than 2 segments found at index6664\n"
          ]
        },
        {
          "output_type": "stream",
          "name": "stderr",
          "text": [
            " 10%|█         | 7469/72000 [04:12<35:18, 30.46it/s]"
          ]
        },
        {
          "output_type": "stream",
          "name": "stdout",
          "text": [
            "less than 2 segments found at index7462\n",
            "less than 2 segments found at index7463\n",
            "less than 2 segments found at index7464\n",
            "less than 2 segments found at index7465\n"
          ]
        },
        {
          "output_type": "stream",
          "name": "stderr",
          "text": [
            " 11%|█         | 7708/72000 [04:21<35:11, 30.45it/s]"
          ]
        },
        {
          "output_type": "stream",
          "name": "stdout",
          "text": [
            "less than 2 segments found at index7704\n"
          ]
        },
        {
          "output_type": "stream",
          "name": "stderr",
          "text": [
            " 11%|█         | 7998/72000 [04:32<35:24, 30.12it/s]"
          ]
        },
        {
          "output_type": "stream",
          "name": "stdout",
          "text": [
            "less than 2 segments found at index7995\n",
            "less than 2 segments found at index7996\n",
            "less than 2 segments found at index7998\n",
            "less than 2 segments found at index7999\n"
          ]
        },
        {
          "output_type": "stream",
          "name": "stderr",
          "text": [
            " 16%|█▌        | 11402/72000 [06:34<31:42, 31.85it/s]"
          ]
        },
        {
          "output_type": "stream",
          "name": "stdout",
          "text": [
            "less than 2 segments found at index11396\n"
          ]
        },
        {
          "output_type": "stream",
          "name": "stderr",
          "text": [
            " 16%|█▌        | 11452/72000 [06:35<33:44, 29.90it/s]"
          ]
        },
        {
          "output_type": "stream",
          "name": "stdout",
          "text": [
            "less than 2 segments found at index11446\n"
          ]
        },
        {
          "output_type": "stream",
          "name": "stderr",
          "text": [
            " 16%|█▌        | 11525/72000 [06:38<35:01, 28.78it/s]"
          ]
        },
        {
          "output_type": "stream",
          "name": "stdout",
          "text": [
            "less than 2 segments found at index11522\n",
            "less than 2 segments found at index11523\n"
          ]
        },
        {
          "output_type": "stream",
          "name": "stderr",
          "text": [
            " 16%|█▋        | 11707/72000 [06:45<34:31, 29.10it/s]"
          ]
        },
        {
          "output_type": "stream",
          "name": "stdout",
          "text": [
            "less than 2 segments found at index11703\n",
            "less than 2 segments found at index11705\n"
          ]
        },
        {
          "output_type": "stream",
          "name": "stderr",
          "text": [
            " 16%|█▋        | 11774/72000 [06:47<33:31, 29.95it/s]"
          ]
        },
        {
          "output_type": "stream",
          "name": "stdout",
          "text": [
            "less than 2 segments found at index11768\n"
          ]
        },
        {
          "output_type": "stream",
          "name": "stderr",
          "text": [
            " 16%|█▋        | 11815/72000 [06:48<37:18, 26.88it/s]"
          ]
        },
        {
          "output_type": "stream",
          "name": "stdout",
          "text": [
            "less than 2 segments found at index11810\n",
            "less than 2 segments found at index11811\n",
            "less than 2 segments found at index11812\n",
            "less than 2 segments found at index11813\n"
          ]
        },
        {
          "output_type": "stream",
          "name": "stderr",
          "text": [
            " 17%|█▋        | 12002/72000 [06:55<31:36, 31.63it/s]"
          ]
        },
        {
          "output_type": "stream",
          "name": "stdout",
          "text": [
            "less than 2 segments found at index11999\n",
            "less than 2 segments found at index12005\n"
          ]
        },
        {
          "output_type": "stream",
          "name": "stderr",
          "text": [
            " 17%|█▋        | 12010/72000 [06:55<33:25, 29.91it/s]"
          ]
        },
        {
          "output_type": "stream",
          "name": "stdout",
          "text": [
            "less than 2 segments found at index12007\n"
          ]
        },
        {
          "output_type": "stream",
          "name": "stderr",
          "text": [
            " 17%|█▋        | 12323/72000 [07:06<32:04, 31.00it/s]"
          ]
        },
        {
          "output_type": "stream",
          "name": "stdout",
          "text": [
            "less than 2 segments found at index12318\n"
          ]
        },
        {
          "output_type": "stream",
          "name": "stderr",
          "text": [
            " 21%|██        | 15110/72000 [08:43<32:20, 29.31it/s]"
          ]
        },
        {
          "output_type": "stream",
          "name": "stdout",
          "text": [
            "less than 2 segments found at index15106\n"
          ]
        },
        {
          "output_type": "stream",
          "name": "stderr",
          "text": [
            " 29%|██▉       | 20809/72000 [12:18<32:55, 25.92it/s]"
          ]
        },
        {
          "output_type": "stream",
          "name": "stdout",
          "text": [
            "less than 2 segments found at index20804\n"
          ]
        },
        {
          "output_type": "stream",
          "name": "stderr",
          "text": [
            " 29%|██▉       | 20819/72000 [12:18<32:20, 26.38it/s]"
          ]
        },
        {
          "output_type": "stream",
          "name": "stdout",
          "text": [
            "less than 2 segments found at index20814\n",
            "less than 2 segments found at index20815\n",
            "less than 2 segments found at index20817\n",
            "less than 2 segments found at index20818\n",
            "less than 2 segments found at index20819\n"
          ]
        },
        {
          "output_type": "stream",
          "name": "stderr",
          "text": [
            " 29%|██▉       | 20825/72000 [12:19<31:55, 26.71it/s]"
          ]
        },
        {
          "output_type": "stream",
          "name": "stdout",
          "text": [
            "less than 2 segments found at index20820\n"
          ]
        },
        {
          "output_type": "stream",
          "name": "stderr",
          "text": [
            " 34%|███▍      | 24304/72000 [14:16<24:48, 32.04it/s]"
          ]
        },
        {
          "output_type": "stream",
          "name": "stdout",
          "text": [
            "less than 2 segments found at index24300\n"
          ]
        },
        {
          "output_type": "stream",
          "name": "stderr",
          "text": [
            " 45%|████▍     | 32190/72000 [18:56<15:58, 41.54it/s]"
          ]
        },
        {
          "output_type": "stream",
          "name": "stdout",
          "text": [
            "less than 2 segments found at index32184\n"
          ]
        },
        {
          "output_type": "stream",
          "name": "stderr",
          "text": [
            " 86%|████████▌ | 62068/72000 [37:21<05:58, 27.69it/s]"
          ]
        },
        {
          "output_type": "stream",
          "name": "stdout",
          "text": [
            "less than 2 segments found at index62064\n",
            "less than 2 segments found at index62066\n",
            "less than 2 segments found at index62067\n",
            "less than 2 segments found at index62069\n",
            "less than 2 segments found at index62070\n"
          ]
        },
        {
          "output_type": "stream",
          "name": "stderr",
          "text": [
            " 86%|████████▌ | 62076/72000 [37:21<05:12, 31.77it/s]"
          ]
        },
        {
          "output_type": "stream",
          "name": "stdout",
          "text": [
            "less than 2 segments found at index62071\n",
            "less than 2 segments found at index62072\n",
            "less than 2 segments found at index62073\n",
            "less than 2 segments found at index62074\n",
            "less than 2 segments found at index62075\n",
            "less than 2 segments found at index62076\n",
            "less than 2 segments found at index62077\n"
          ]
        },
        {
          "output_type": "stream",
          "name": "stderr",
          "text": [
            " 88%|████████▊ | 63440/72000 [38:12<04:21, 32.74it/s]"
          ]
        },
        {
          "output_type": "stream",
          "name": "stdout",
          "text": [
            "less than 2 segments found at index63435\n",
            "less than 2 segments found at index63441\n"
          ]
        },
        {
          "output_type": "stream",
          "name": "stderr",
          "text": [
            " 88%|████████▊ | 63554/72000 [38:16<04:43, 29.78it/s]"
          ]
        },
        {
          "output_type": "stream",
          "name": "stdout",
          "text": [
            "less than 2 segments found at index63550\n"
          ]
        },
        {
          "output_type": "stream",
          "name": "stderr",
          "text": [
            " 89%|████████▊ | 63779/72000 [38:25<04:09, 32.93it/s]"
          ]
        },
        {
          "output_type": "stream",
          "name": "stdout",
          "text": [
            "less than 2 segments found at index63774\n"
          ]
        },
        {
          "output_type": "stream",
          "name": "stderr",
          "text": [
            " 89%|████████▊ | 63826/72000 [38:26<04:21, 31.27it/s]"
          ]
        },
        {
          "output_type": "stream",
          "name": "stdout",
          "text": [
            "less than 2 segments found at index63821\n",
            "less than 2 segments found at index63824\n"
          ]
        },
        {
          "output_type": "stream",
          "name": "stderr",
          "text": [
            " 89%|████████▊ | 63862/72000 [38:28<04:45, 28.54it/s]"
          ]
        },
        {
          "output_type": "stream",
          "name": "stdout",
          "text": [
            "less than 2 segments found at index63858\n",
            "less than 2 segments found at index63859\n"
          ]
        },
        {
          "output_type": "stream",
          "name": "stderr",
          "text": [
            " 90%|████████▉ | 64627/72000 [38:57<03:50, 31.92it/s]"
          ]
        },
        {
          "output_type": "stream",
          "name": "stdout",
          "text": [
            "less than 2 segments found at index64624\n",
            "less than 2 segments found at index64625\n",
            "less than 2 segments found at index64626\n"
          ]
        },
        {
          "output_type": "stream",
          "name": "stderr",
          "text": [
            "100%|██████████| 72000/72000 [43:35<00:00, 27.52it/s]\n"
          ]
        },
        {
          "output_type": "stream",
          "name": "stdout",
          "text": [
            "tail feature extracted!\n",
            "current index 72000\n",
            "current index 73000\n",
            "current index 74000\n",
            "current index 75000\n",
            "current index 76000\n",
            "current index 77000\n",
            "current index 78000\n",
            "current index 79000\n",
            "current index 80000\n",
            "current index 81000\n"
          ]
        },
        {
          "output_type": "stream",
          "name": "stderr",
          "text": [
            "  0%|          | 2/72000 [00:00<4:50:42,  4.13it/s]"
          ]
        },
        {
          "output_type": "stream",
          "name": "stdout",
          "text": [
            "sample contour of the first frame has been saved to sample_contour.png\n"
          ]
        },
        {
          "output_type": "stream",
          "name": "stderr",
          "text": [
            "100%|██████████| 72000/72000 [1:40:26<00:00, 11.95it/s]\n"
          ]
        },
        {
          "output_type": "stream",
          "name": "stdout",
          "text": [
            "current index 72000\n",
            "current index 73000\n",
            "current index 74000\n",
            "current index 75000\n",
            "current index 76000\n",
            "current index 77000\n",
            "current index 78000\n",
            "current index 79000\n",
            "current index 80000\n",
            "current index 81000\n",
            "complete extract contour\n"
          ]
        },
        {
          "output_type": "stream",
          "name": "stderr",
          "text": [
            " 12%|█▏        | 8401/72000 [05:16<43:10, 24.55it/s]"
          ]
        },
        {
          "output_type": "stream",
          "name": "stdout",
          "text": [
            "less than 2 segments found at index8398\n"
          ]
        },
        {
          "output_type": "stream",
          "name": "stderr",
          "text": [
            " 12%|█▏        | 8572/72000 [05:23<37:19, 28.32it/s]"
          ]
        },
        {
          "output_type": "stream",
          "name": "stdout",
          "text": [
            "less than 2 segments found at index8566\n"
          ]
        },
        {
          "output_type": "stream",
          "name": "stderr",
          "text": [
            " 14%|█▍        | 9928/72000 [06:16<37:46, 27.39it/s]"
          ]
        },
        {
          "output_type": "stream",
          "name": "stdout",
          "text": [
            "less than 2 segments found at index9924\n"
          ]
        },
        {
          "output_type": "stream",
          "name": "stderr",
          "text": [
            " 21%|██        | 15231/72000 [09:37<43:26, 21.78it/s]"
          ]
        },
        {
          "output_type": "stream",
          "name": "stdout",
          "text": [
            "less than 2 segments found at index15227\n"
          ]
        },
        {
          "output_type": "stream",
          "name": "stderr",
          "text": [
            " 25%|██▍       | 17718/72000 [10:52<27:39, 32.71it/s]"
          ]
        },
        {
          "output_type": "stream",
          "name": "stdout",
          "text": [
            "less than 2 segments found at index17714\n",
            "less than 2 segments found at index17715\n",
            "less than 2 segments found at index17716\n"
          ]
        },
        {
          "output_type": "stream",
          "name": "stderr",
          "text": [
            " 29%|██▉       | 20812/72000 [12:46<33:09, 25.73it/s]"
          ]
        },
        {
          "output_type": "stream",
          "name": "stdout",
          "text": [
            "less than 2 segments found at index20809\n"
          ]
        },
        {
          "output_type": "stream",
          "name": "stderr",
          "text": [
            " 33%|███▎      | 23452/72000 [14:14<31:44, 25.49it/s]"
          ]
        },
        {
          "output_type": "stream",
          "name": "stdout",
          "text": [
            "less than 2 segments found at index23448\n"
          ]
        },
        {
          "output_type": "stream",
          "name": "stderr",
          "text": [
            " 34%|███▎      | 24201/72000 [14:42<29:03, 27.41it/s]"
          ]
        },
        {
          "output_type": "stream",
          "name": "stdout",
          "text": [
            "less than 2 segments found at index24195\n",
            "less than 2 segments found at index24196\n"
          ]
        },
        {
          "output_type": "stream",
          "name": "stderr",
          "text": [
            " 45%|████▍     | 32307/72000 [19:46<23:05, 28.65it/s]"
          ]
        },
        {
          "output_type": "stream",
          "name": "stdout",
          "text": [
            "less than 2 segments found at index32301\n",
            "less than 2 segments found at index32302\n"
          ]
        },
        {
          "output_type": "stream",
          "name": "stderr",
          "text": [
            " 89%|████████▉ | 63974/72000 [37:30<03:12, 41.61it/s]"
          ]
        },
        {
          "output_type": "stream",
          "name": "stdout",
          "text": [
            "less than 2 segments found at index63967\n"
          ]
        },
        {
          "output_type": "stream",
          "name": "stderr",
          "text": [
            " 95%|█████████▌| 68585/72000 [40:19<01:43, 32.96it/s]"
          ]
        },
        {
          "output_type": "stream",
          "name": "stdout",
          "text": [
            "less than 2 segments found at index68579\n",
            "less than 2 segments found at index68580\n",
            "less than 2 segments found at index68581\n",
            "less than 2 segments found at index68583\n"
          ]
        },
        {
          "output_type": "stream",
          "name": "stderr",
          "text": [
            " 95%|█████████▌| 68613/72000 [40:20<01:47, 31.46it/s]"
          ]
        },
        {
          "output_type": "stream",
          "name": "stdout",
          "text": [
            "less than 2 segments found at index68608\n",
            "less than 2 segments found at index68609\n"
          ]
        },
        {
          "output_type": "stream",
          "name": "stderr",
          "text": [
            "100%|██████████| 72000/72000 [42:22<00:00, 28.31it/s]\n"
          ]
        },
        {
          "output_type": "stream",
          "name": "stdout",
          "text": [
            "tail feature extracted!\n",
            "current index 72000\n",
            "current index 73000\n",
            "current index 74000\n",
            "current index 75000\n",
            "current index 76000\n",
            "current index 77000\n",
            "current index 78000\n",
            "current index 79000\n",
            "current index 80000\n",
            "current index 81000\n"
          ]
        },
        {
          "output_type": "display_data",
          "data": {
            "image/png": "[encoded data removed]",
            "text/plain": [
              "<Figure size 432x288 with 1 Axes>"
            ]
          },
          "metadata": {
            "needs_background": "light"
          }
        }
      ]
    }
  ]
}